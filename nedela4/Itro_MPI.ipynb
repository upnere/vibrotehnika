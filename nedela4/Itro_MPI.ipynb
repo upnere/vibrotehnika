{
 "cells": [
  {
   "cell_type": "markdown",
   "id": "5d223967-4a35-407d-a2f7-bdbb8c23f2b9",
   "metadata": {},
   "source": [
    "# Introduction to MPI\n"
   ]
  },
  {
   "cell_type": "markdown",
   "id": "f6033ff1-d14d-4f1e-bf5c-582cc2195a39",
   "metadata": {},
   "source": [
    "**You can edit the exercises directly in the cells.**<br>\n",
    "- **Jupyter notebook quick start:**\n",
    "- \\<Shift>+\\<Return> --> runs a cell\n",
    "- ! --> shell escape [! Linux command line]\n",
    "- use a (above) and b (below) left of the [ ] to open new cells\n",
    "&nbsp;<br>\n",
    "&nbsp;<br>"
   ]
  },
  {
   "cell_type": "markdown",
   "id": "7b8b3b7c-e15e-466d-b324-a5ce3fd18359",
   "metadata": {},
   "source": [
    "<img src=\"img/exercise.png\" width=\"45\"> **Exercise 1** \n",
    "<br>\n",
    "\n",
    "### Hello"
   ]
  },
  {
   "cell_type": "markdown",
   "id": "03d9d0ce-79ef-4766-9d0a-beb0ff4c9ffc",
   "metadata": {},
   "source": [
    "*Write a MPI program that prints \"Hello World!\" by each MPI process.*\n",
    "\n",
    "Replace the ___ (underscore) with the required Python script.  \n",
    "Note, if you don't change the cell below the next cell (! python...) will show errors."
   ]
  },
  {
   "cell_type": "code",
   "execution_count": 2,
   "id": "adc73ff7-6447-45ab-9344-8ea2967b841d",
   "metadata": {
    "tags": []
   },
   "outputs": [
    {
     "name": "stdout",
     "output_type": "stream",
     "text": [
      "Overwriting exercises/hello.py\n"
     ]
    }
   ],
   "source": [
    "%%writefile exercises/hello.py\n",
    "\n",
    "# PLEASE use the appropriate MPI library\n",
    "\n",
    "\n",
    "print(\"Hello World!\")"
   ]
  },
  {
   "cell_type": "markdown",
   "id": "6e1c939f-db58-4c80-8871-aab667ada929",
   "metadata": {},
   "source": [
    "<br>*Run it on a single processor (serial program):*"
   ]
  },
  {
   "cell_type": "code",
   "execution_count": 4,
   "id": "0375ec00-7ab0-4e68-b907-3399e77e319e",
   "metadata": {
    "tags": []
   },
   "outputs": [
    {
     "name": "stdout",
     "output_type": "stream",
     "text": [
      "Hello World!\n"
     ]
    }
   ],
   "source": [
    "! python exercises/hello.py"
   ]
  },
  {
   "cell_type": "markdown",
   "id": "5112674f-c2d7-4516-b3c7-ed1121fc4ca4",
   "metadata": {},
   "source": [
    "<br>*Run it on several processors in parallel (with several, e.g., 4, MPI processes):*"
   ]
  },
  {
   "cell_type": "code",
   "execution_count": 20,
   "id": "5cdff443-0ae1-44e7-ae16-cb9e578db947",
   "metadata": {
    "tags": []
   },
   "outputs": [
    {
     "name": "stdout",
     "output_type": "stream",
     "text": [
      "Hello World!\n",
      "Hello World!\n",
      "Hello World!\n",
      "Hello World!\n"
     ]
    }
   ],
   "source": [
    "! mpiexec -n 4 python exercises/hello.py "
   ]
  },
  {
   "cell_type": "markdown",
   "id": "487a578c-6a76-40d2-bab9-e8deea2bc5b8",
   "metadata": {
    "tags": []
   },
   "source": [
    "<br>**Expected output with 4 MPI processes:**"
   ]
  },
  {
   "cell_type": "raw",
   "id": "bfca0da4-b091-4fb1-8fb6-62109b4cf204",
   "metadata": {},
   "source": [
    "Hello World!\n",
    "Hello World!\n",
    "Hello World!\n",
    "Hello World!"
   ]
  },
  {
   "cell_type": "markdown",
   "id": "0a682b34-e0f6-493d-80ed-8bed639cbceb",
   "metadata": {},
   "source": [
    "&nbsp;"
   ]
  },
  {
   "cell_type": "markdown",
   "id": "798941dd-3a92-4941-b7dd-13f2399d28c1",
   "metadata": {
    "tags": []
   },
   "source": [
    "*Play around with different numbers of MPI processes.*"
   ]
  },
  {
   "cell_type": "code",
   "execution_count": 22,
   "id": "cde91f7b-255e-4020-9bd4-7fc77197e208",
   "metadata": {
    "tags": []
   },
   "outputs": [
    {
     "name": "stdout",
     "output_type": "stream",
     "text": [
      "Hello World!\n",
      "Hello World!\n",
      "Hello World!\n",
      "Hello World!\n",
      "Hello World!\n",
      "Hello World!\n",
      "Hello World!\n",
      "Hello World!\n"
     ]
    }
   ],
   "source": [
    "! mpiexec -n 8 python exercises/hello.py"
   ]
  },
  {
   "cell_type": "markdown",
   "id": "aafb6e81-08b2-4ec2-b7e0-8a0751f3d3ec",
   "metadata": {},
   "source": [
    "&nbsp;"
   ]
  },
  {
   "cell_type": "markdown",
   "id": "2e3ccf5a-5a3c-4d46-acf1-cf371adb8c92",
   "metadata": {
    "tags": []
   },
   "source": [
    "<img src=\"img/exercise.png\" width=\"45\"> **Exercise 2**\n",
    "<br>\n",
    "\n",
    "### My Rank"
   ]
  },
  {
   "cell_type": "markdown",
   "id": "ef02270b-aa74-4387-976d-5124fedf084f",
   "metadata": {
    "tags": []
   },
   "source": [
    "*Modify the program below so that<br>\n",
    "– every process writes its rank and the size of MPI_COMM_WORLD,<br>\n",
    "– only process ranked 0 in MPI_COMM_WORLD prints \"Hello World!\".*<br>\n",
    "&nbsp;<br>\n",
    "Note, if you don't change the cell below the next cell (mpiexec) will show errors."
   ]
  },
  {
   "cell_type": "code",
   "execution_count": 8,
   "id": "c9258630-975c-41ca-aab4-4e15c76d1e42",
   "metadata": {
    "tags": []
   },
   "outputs": [
    {
     "name": "stdout",
     "output_type": "stream",
     "text": [
      "Writing exercises/myrank.py\n"
     ]
    }
   ],
   "source": [
    "%%writefile exercises/myrank.py\n",
    "\n",
    "from mpi4py import MPI\n",
    "\n",
    "comm = MPI.COMM_WORLD\n",
    "# PLEASE QUERY my_rank and size of your communicator\n",
    "my_rank = \n",
    "size = \n",
    "\n",
    "# ONLY PROCESS 0 should print hello world\n",
    "if \n",
    "   print(\"Hello world!\")\n",
    "   \n",
    "print(f\"I am process {my_rank} out of {size}\")"
   ]
  },
  {
   "cell_type": "markdown",
   "id": "87af2510-d138-4a1f-8a6c-0d96830a27c6",
   "metadata": {
    "tags": []
   },
   "source": [
    "<br>**Run it with 4 MPI processes (run it several times to see run to run variations):**"
   ]
  },
  {
   "cell_type": "code",
   "execution_count": 10,
   "id": "cd8a2825-0677-4bc0-8ff9-09e6fc190360",
   "metadata": {
    "tags": []
   },
   "outputs": [
    {
     "name": "stdout",
     "output_type": "stream",
     "text": [
      "I am process 3 out of 4\n",
      "I am process 2 out of 4\n",
      "I am process 1 out of 4\n",
      "Hello world!\n",
      "I am process 0 out of 4\n"
     ]
    }
   ],
   "source": [
    "! mpiexec -n 4 python exercises/myrank.py"
   ]
  },
  {
   "cell_type": "markdown",
   "id": "f6636c82-6387-4acf-9b18-d50755322722",
   "metadata": {},
   "source": [
    "<br>**Expected output with 4 MPI processes:**"
   ]
  },
  {
   "cell_type": "raw",
   "id": "f2f1c640-8fe2-4659-b7bb-a2fb35633869",
   "metadata": {},
   "source": [
    "I am process 2 out of 4\n",
    "Hello world!\n",
    "I am process 0 out of 4\n",
    "I am process 3 out of 4\n",
    "I am process 1 out of 4"
   ]
  },
  {
   "cell_type": "markdown",
   "id": "e35ad255-b7d0-4cdc-a37d-f229ef2b4d38",
   "metadata": {},
   "source": [
    "<br>**Try different numbers of MPI processes:**"
   ]
  },
  {
   "cell_type": "code",
   "execution_count": null,
   "id": "c18783b6-68d5-4d88-8849-21c6e119fe17",
   "metadata": {
    "tags": []
   },
   "outputs": [],
   "source": [
    "! mpiexec -n 6 python exercises/myrank.py"
   ]
  },
  {
   "cell_type": "markdown",
   "id": "ad843f9b-0b17-4b64-a405-d88ea6e52f17",
   "metadata": {},
   "source": [
    "<br>*Why is the sequence of the output non-deterministic?*\n"
   ]
  },
  {
   "cell_type": "markdown",
   "id": "c7527f1b-a008-4f95-b14b-7c812172f372",
   "metadata": {
    "jp-MarkdownHeadingCollapsed": true,
    "tags": []
   },
   "source": [
    "#### Solution: Exercise 2 \n",
    "(please try to solve the exercise by yourself before looking at the solution)"
   ]
  },
  {
   "cell_type": "code",
   "execution_count": 1,
   "id": "9d483267-69ed-44ee-a2fc-57664ecb2524",
   "metadata": {
    "tags": []
   },
   "outputs": [
    {
     "name": "stdout",
     "output_type": "stream",
     "text": [
      "Overwriting solutions/solution_myrank.py\n"
     ]
    }
   ],
   "source": [
    "%%writefile solutions/solution_myrank.py\n",
    "\n",
    "from mpi4py import MPI\n",
    "\n",
    "comm = MPI.COMM_WORLD\n",
    "\n",
    "my_rank = comm.Get_rank()\n",
    "size = comm.Get_size()\n",
    "\n",
    "if (my_rank == 0):\n",
    "   print(\"Hello world!\")\n",
    "\n",
    "print(f\"I am process {my_rank} out of {size}\")"
   ]
  },
  {
   "cell_type": "markdown",
   "id": "8223cf17-10d5-4b05-9d21-dc491b926e80",
   "metadata": {},
   "source": [
    "<br>**Run the solution (run it several times to see run to run variations):**"
   ]
  },
  {
   "cell_type": "code",
   "execution_count": 3,
   "id": "126abe04-69ec-43fb-a64e-75120f785d3a",
   "metadata": {
    "tags": []
   },
   "outputs": [
    {
     "name": "stdout",
     "output_type": "stream",
     "text": [
      "I am process 2 out of 4\n",
      "I am process 1 out of 4\n",
      "I am process 3 out of 4\n",
      "Hello world!\n",
      "I am process 0 out of 4\n"
     ]
    }
   ],
   "source": [
    "! mpiexec -n 4 python solutions/solution_myrank.py"
   ]
  },
  {
   "cell_type": "markdown",
   "id": "0e64b14c-b25c-4ffd-a713-4d6cda8c3d97",
   "metadata": {},
   "source": [
    "&nbsp;"
   ]
  },
  {
   "cell_type": "markdown",
   "id": "dda10e76-e3ad-49d4-b354-30e04a4b643b",
   "metadata": {
    "tags": []
   },
   "source": [
    "<br>\n",
    "\n",
    "#### Extended version of the hello world program"
   ]
  },
  {
   "cell_type": "markdown",
   "id": "9f1d84f7-a171-44ea-aa26-2be7d93bd0d3",
   "metadata": {},
   "source": [
    "*This is an extended version that also prints the processor (=node) names where the MPI processes are running.*"
   ]
  },
  {
   "cell_type": "code",
   "execution_count": 37,
   "id": "535ae620-78bb-4c14-bac4-e7660d41a086",
   "metadata": {
    "tags": []
   },
   "outputs": [
    {
     "name": "stdout",
     "output_type": "stream",
     "text": [
      "Writing exercises/hello_processor_name.py\n"
     ]
    }
   ],
   "source": [
    "%%writefile exercises/hello_processor_name.py\n",
    "\n",
    "from mpi4py import MPI\n",
    "\n",
    "comm_world = MPI.COMM_WORLD\n",
    "\n",
    "my_rank = comm_world.Get_rank()\n",
    "size = comm_world.Get_size()\n",
    "name = MPI.Get_processor_name()\n",
    "\n",
    "if (my_rank == 0):\n",
    "   print(\"Hello World!\")\n",
    "\n",
    "print(f\"I am process {my_rank} out of {size} on {name}\")"
   ]
  },
  {
   "cell_type": "markdown",
   "id": "c5297a2d-1912-4df2-8bbf-f885a56cdb48",
   "metadata": {},
   "source": [
    "<br>**Run the extended version:**"
   ]
  },
  {
   "cell_type": "code",
   "execution_count": 41,
   "id": "bf03d21b-e9aa-4611-aae3-9d5a891580e8",
   "metadata": {
    "tags": []
   },
   "outputs": [
    {
     "name": "stdout",
     "output_type": "stream",
     "text": [
      "I am process 2 out of 4 on LAPTOP-GSJVC9H1\n",
      "Hello World!\n",
      "I am process 0 out of 4 on LAPTOP-GSJVC9H1\n",
      "I am process 1 out of 4 on LAPTOP-GSJVC9H1\n",
      "I am process 3 out of 4 on LAPTOP-GSJVC9H1\n"
     ]
    }
   ],
   "source": [
    "! mpiexec -n 4 python exercises/hello_processor_name.py"
   ]
  },
  {
   "cell_type": "markdown",
   "id": "fb927f27-b6fe-4c05-8fa4-e7a810c4525f",
   "metadata": {},
   "source": [
    "&nbsp;"
   ]
  },
  {
   "cell_type": "markdown",
   "id": "8430bfc5-c015-4d8b-851d-ac078efed5f4",
   "metadata": {
    "tags": []
   },
   "source": [
    "### Version Test (optional)"
   ]
  },
  {
   "cell_type": "markdown",
   "id": "1c6f3a2f-869d-4d63-b69d-b2071b6fc486",
   "metadata": {},
   "source": [
    "*Run the version test to figure out the version of the MPI library and of the header in use.*"
   ]
  },
  {
   "cell_type": "code",
   "execution_count": 45,
   "id": "316bf1bb-45a2-48b6-ae2e-8aa142a156ee",
   "metadata": {
    "tags": []
   },
   "outputs": [
    {
     "name": "stdout",
     "output_type": "stream",
     "text": [
      "Writing exercises/version_test.py\n"
     ]
    }
   ],
   "source": [
    "%%writefile exercises/version_test.py\n",
    "\n",
    "from mpi4py import MPI\n",
    "\n",
    "(lib_version, lib_subversion) = MPI.Get_version()\n",
    "print(f\"Version: Library: {lib_version}.{lib_subversion} mpi.h: {MPI.VERSION}.{MPI.SUBVERSION}\")"
   ]
  },
  {
   "cell_type": "markdown",
   "id": "a7e2ce30-a697-4976-91e0-f09e37fb9ddb",
   "metadata": {},
   "source": [
    "<br>**Run it:**"
   ]
  },
  {
   "cell_type": "code",
   "execution_count": 47,
   "id": "64fbbd61-0768-4406-a5ec-b110bc2ab7ad",
   "metadata": {
    "tags": []
   },
   "outputs": [
    {
     "name": "stdout",
     "output_type": "stream",
     "text": [
      "Version: Library: 2.0 mpi.h: 2.0\n"
     ]
    }
   ],
   "source": [
    "! mpiexec -n 1 python exercises/version_test.py"
   ]
  },
  {
   "cell_type": "markdown",
   "id": "3378b242-c07b-4558-bac8-347b6a386ac9",
   "metadata": {},
   "source": [
    "\n",
    "<img src=\"img/exercise.png\" width=\"45\"> **Exercise 3**\n",
    "<br>\n",
    "\n",
    "### Parallel calculations\n",
    "Write an MPI program which defines two floating point variables a and b. Use the rank to:\r\n",
    "\r\n",
    "* print a-b if the rank is 0\r\n",
    "* print a+b if the rank is 1\r\n",
    "* print a*b if the rank is 2\r\n",
    "  \r\n",
    "Run the program on 3 cores and see that it workectly.s corr\n",
    "ly.\n",
    "\n",
    "\n",
    "ctly."
   ]
  },
  {
   "cell_type": "code",
   "execution_count": 6,
   "id": "54364d21-09f7-40ee-8f11-712ea0b67661",
   "metadata": {},
   "outputs": [
    {
     "name": "stdout",
     "output_type": "stream",
     "text": [
      "Writing exercises/rank_math.py\n"
     ]
    }
   ],
   "source": [
    "%%writefile exercises/rank_math.py\n",
    "\n",
    "from mpi4py import MPI\n",
    "import sys\n",
    "\n",
    "a = 5.0\n",
    "b = 2.0\n",
    "\n",
    "rank = MPI.COMM_WORLD.Get_rank()\n",
    "n_ranks = MPI.COMM_WORLD.Get_size()\n",
    "\n",
    "if n_ranks != 3:\n",
    "    print('This program only works with 3 ranks')\n",
    "    sys.exit(1)\n",
    "\n",
    "if rank == 0:\n",
    "    print(f'a = {a}, b = {b}')\n",
    "    #___ your code ____\n",
    "if rank == 1:\n",
    "    #___ your code ____\n",
    "if rank == 2:\n",
    "    #___ your code ____"
   ]
  },
  {
   "cell_type": "markdown",
   "id": "1dbdc867-b5dd-4285-9083-8476a98ce7a9",
   "metadata": {},
   "source": [
    "**Run it:**"
   ]
  },
  {
   "cell_type": "code",
   "execution_count": 12,
   "id": "de668589-c787-44d1-9e81-12aabd22c40f",
   "metadata": {},
   "outputs": [
    {
     "name": "stdout",
     "output_type": "stream",
     "text": [
      "This program only works with 3 ranks\n"
     ]
    }
   ],
   "source": [
    "! mpiexec -n 1 python exercises/rank_math.py"
   ]
  },
  {
   "cell_type": "markdown",
   "id": "58cd1063-964d-4689-86d1-0c6c14a48549",
   "metadata": {
    "jp-MarkdownHeadingCollapsed": true
   },
   "source": [
    "#### Solution: Exercise 3\n",
    "(please try to solve the exercise by yourself before looking at the solution)"
   ]
  },
  {
   "cell_type": "code",
   "execution_count": null,
   "id": "57517e67-dba4-4af4-a467-2e5675ac9572",
   "metadata": {},
   "outputs": [],
   "source": [
    "%%writefile solution/rank_math.py\n",
    "\n",
    "from mpi4py import MPI\n",
    "import sys\n",
    "\n",
    "a = 5.0\n",
    "b = 2.0\n",
    "\n",
    "rank = MPI.COMM_WORLD.Get_rank()\n",
    "n_ranks = MPI.COMM_WORLD.Get_size()\n",
    "\n",
    "if n_ranks != 3:\n",
    "    print('This program only works with 3 ranks')\n",
    "    sys.exit(1)\n",
    "\n",
    "if rank == 0:\n",
    "    print(f'a = {a}, b = {b}')\n",
    "    print(f'a - b = {a-b}')\n",
    "if rank == 1:\n",
    "    print(f'a + b = {a+b}')\n",
    "if rank == 2:\n",
    "    print(f'a * b = {a*b}')"
   ]
  },
  {
   "cell_type": "markdown",
   "id": "2c5cb24c-7559-4942-aea6-efbaae2a57b0",
   "metadata": {},
   "source": [
    "**Run it:**"
   ]
  },
  {
   "cell_type": "code",
   "execution_count": null,
   "id": "b618c8de-2384-453b-bf69-37665b6e436e",
   "metadata": {},
   "outputs": [],
   "source": [
    "! mpiexec -n 3 python solution/rank_math.py"
   ]
  },
  {
   "cell_type": "code",
   "execution_count": null,
   "id": "a9aa5b22-5f23-4f47-87f1-6f4aaacb7863",
   "metadata": {},
   "outputs": [],
   "source": []
  },
  {
   "attachments": {},
   "cell_type": "markdown",
   "id": "e15ea354-9f6c-47c0-a092-afd1f278936a",
   "metadata": {},
   "source": [
    "\n",
    "### One Ping\n",
    "\n",
    "**A message between two processes.**\n",
    "\n",
    "Send the string “Hello World!” from rank 0 to rank 1.\n"
   ]
  },
  {
   "cell_type": "code",
   "execution_count": 59,
   "id": "5d142d45-c4a6-4dbc-8fb6-35470d9fea57",
   "metadata": {},
   "outputs": [
    {
     "name": "stdout",
     "output_type": "stream",
     "text": [
      "Writing exercises/message0_1.py\n"
     ]
    }
   ],
   "source": [
    "%%writefile exercises/message0_1.py\n",
    "\n",
    "from mpi4py import MPI\n",
    "import sys\n",
    "\n",
    "# Check that there are two ranks\n",
    "n_ranks = MPI.COMM_WORLD.Get_size()\n",
    "if n_ranks != 2:\n",
    "    print(\"This example requires exactly two ranks\")\n",
    "    sys.exit(1)\n",
    "\n",
    "# Get my rank\n",
    "rank = MPI.COMM_WORLD.Get_rank()\n",
    "\n",
    "if rank == 0:\n",
    "    message = \"Hello, world!\"\n",
    "    MPI.COMM_WORLD.send(message, dest=1, tag=0)\n",
    "\n",
    "if rank == 1:\n",
    "    message = MPI.COMM_WORLD.recv(source=0, tag=0)\n",
    "    print(message)"
   ]
  },
  {
   "cell_type": "markdown",
   "id": "e75456d7-42aa-49b7-a4cd-2102a275bd3c",
   "metadata": {},
   "source": [
    "**Run it:**"
   ]
  },
  {
   "cell_type": "code",
   "execution_count": 61,
   "id": "2bbc5c08-bce7-40a1-952c-ec3bde1cd5d2",
   "metadata": {},
   "outputs": [
    {
     "name": "stdout",
     "output_type": "stream",
     "text": [
      "Hello, world!\n"
     ]
    }
   ],
   "source": [
    "! mpiexec -n 2 python exercises/message0_1.py"
   ]
  },
  {
   "cell_type": "markdown",
   "id": "6298de80-5d42-4a51-be4f-3258c838adde",
   "metadata": {},
   "source": [
    "<img src=\"img/exercise.png\" width=\"45\"> **Exercise 4**\n",
    "<br>\n",
    "\n",
    "### More messages\n",
    "\n",
    "Modify the Hello World code so that each rank sends its message to rank 0. Have rank 0 print each message."
   ]
  },
  {
   "cell_type": "code",
   "execution_count": 69,
   "id": "8b650053-7ab9-4112-afd5-cf24a2479a82",
   "metadata": {},
   "outputs": [
    {
     "name": "stdout",
     "output_type": "stream",
     "text": [
      "Writing exercises/messages.py\n"
     ]
    }
   ],
   "source": [
    "%%writefile exercises/messages.py\n",
    "\n",
    "from mpi4py import MPI\n",
    "\n",
    "# Get my rank and the number of ranks\n",
    "rank = MPI.COMM_WORLD.Get_rank()\n",
    "n_ranks = MPI.COMM_WORLD.Get_size()\n",
    "\n",
    "if rank != 0:\n",
    "    # All ranks other than 0 should send a message\n",
    "    message = \"Hello World, I'm rank {:d}\".format(rank)\n",
    "    #___ your code to send ____\n",
    "\n",
    "else:\n",
    "    # Rank 0 will receive each message and print them\n",
    "    for sender in range(1, n_ranks):\n",
    "        #___ your code to receive ____\n",
    "        print(message)"
   ]
  },
  {
   "cell_type": "markdown",
   "id": "db3980a2-bfcf-468b-9257-d615a5623b3d",
   "metadata": {},
   "source": [
    "**Run it:**"
   ]
  },
  {
   "cell_type": "code",
   "execution_count": 71,
   "id": "7360071f-a2a2-4caf-a8b6-2ae79f525e6a",
   "metadata": {},
   "outputs": [
    {
     "name": "stdout",
     "output_type": "stream",
     "text": [
      "Hello World, I'm rank 1\n",
      "Hello World, I'm rank 2\n",
      "Hello World, I'm rank 3\n"
     ]
    }
   ],
   "source": [
    "! mpiexec -n 4 python exercises/messages.py"
   ]
  },
  {
   "cell_type": "markdown",
   "id": "2f3ac53e-64b4-42bd-9b9b-82a9e319ff65",
   "metadata": {},
   "source": [
    "## One Ping Pong\n",
    "\n",
    "One exchange (one ping-pong) between two processes. This example shows how a message is sent from one process to another and back."
   ]
  },
  {
   "cell_type": "code",
   "execution_count": 10,
   "id": "666a065a-7fc5-464c-9f53-4e58fa691937",
   "metadata": {},
   "outputs": [
    {
     "name": "stdout",
     "output_type": "stream",
     "text": [
      "Overwriting exercises/pingpong.py\n"
     ]
    }
   ],
   "source": [
    "%%writefile exercises/pingpong.py\n",
    "\n",
    "from mpi4py import MPI\n",
    "import time\n",
    "\n",
    "comm = MPI.COMM_WORLD\n",
    "rank = comm.Get_rank()\n",
    "size = comm.Get_size()\n",
    "\n",
    "# Ensure we have exactly two processes\n",
    "if size != 2:\n",
    "    if rank == 0:\n",
    "        print(\"This program requires exactly two processes.\")\n",
    "    exit()\n",
    "\n",
    "# Message and target rank\n",
    "message1 = \"ping\"\n",
    "message2 = \"pong\"\n",
    "\n",
    "# Start timing\n",
    "if rank == 0:\n",
    "    start_time = time.time()\n",
    "\n",
    "# Perform one ping-pong exchange\n",
    "if rank == 0:\n",
    "    # Rank 0 sends a message to Rank 1 with tag 17\n",
    "    comm.send(message1, dest=1, tag=17)\n",
    "    print(f\"Rank 0 sent '{message1}' to Rank 1 with tag 17\")\n",
    "    \n",
    "    # Rank 0 receives the message back from Rank 1 with tag 23\n",
    "    message2 = comm.recv(source=1, tag=23)\n",
    "    print(f\"Rank 0 received '{message2}' from Rank 1 with tag 23\")\n",
    "else:\n",
    "    # Rank 1 receives the message from Rank 0 with tag 17\n",
    "    message1 = comm.recv(source=0, tag=17)\n",
    "    print(f\"Rank 1 received '{message1}' from Rank 0 with tag 17\")\n",
    "    \n",
    "    # Rank 1 sends the message back to Rank 0 with tag 23\n",
    "    comm.send(message2, dest=0, tag=23)\n",
    "    print(f\"Rank 1 sent '{message2}' back to Rank 0 with tag 23\")\n",
    "\n",
    "# End timing on Rank 0 and display elapsed time\n",
    "if rank == 0:\n",
    "    end_time = time.time()\n",
    "    elapsed_time = end_time - start_time\n",
    "    print(f\"Elapsed time for one ping-pong exchange: {elapsed_time:.4f} seconds\")\n"
   ]
  },
  {
   "cell_type": "code",
   "execution_count": 12,
   "id": "7e9daca0-891a-4aa9-9470-c715bc6b8fce",
   "metadata": {},
   "outputs": [
    {
     "name": "stdout",
     "output_type": "stream",
     "text": [
      "Rank 0 sent 'ping' to Rank 1 with tag 17\n",
      "Rank 1 received 'ping' from Rank 0 with tag 17\n",
      "Rank 1 sent 'pong' back to Rank 0 with tag 23\n",
      "Rank 0 received 'pong' from Rank 1 with tag 23\n",
      "Elapsed time for one ping-pong exchange: 0.0020 seconds\n"
     ]
    }
   ],
   "source": [
    "! mpiexec -n 2 python exercises/pingpong.py"
   ]
  },
  {
   "cell_type": "markdown",
   "id": "1dc31d63-9cc2-4dc4-9339-de956e7a3c72",
   "metadata": {},
   "source": [
    "## Serial vs Parallel. Vibrating 6 masses\n",
    "\n",
    "A series of masses connected by springs vibrate, simulating a 1D wave propagation through connected masses. A fixed configuration of 6 masses connected by springs is used.\n",
    "\n",
    "Mass 1 (index 0) and Mass 6 (index 5) have fixed boundaries. For force calculation, their neighbouring positions are set to 0.0.\n",
    "Mass 3 (index 2) starts with a displacement of 1.0, representing an initial pulse. All other masses start at 0.0 displacement.\n",
    "For each time step, we calculate the force on each mass based on its neighbouring positions, update its acceleration, and adjust velocity and position accordingly.\n",
    "Positions and velocities are updated based on the accumulated net force.\n",
    "\n",
    "<img src=\"img/mass6.png\" width=\"800\">\n",
    "\n",
    "a) Do calculations with a serial code.\n",
    "\n",
    "b) To speed up calculations the system can be divided into processes. Each process represents a single mass in a chain connected by springs.\n"
   ]
  },
  {
   "cell_type": "markdown",
   "id": "371f951a-3185-45f9-afdd-dcbcf189de51",
   "metadata": {},
   "source": [
    "(a)"
   ]
  },
  {
   "cell_type": "code",
   "execution_count": 72,
   "id": "7dbcf58d-ebf0-477a-81ff-a918fe94af03",
   "metadata": {},
   "outputs": [
    {
     "name": "stdout",
     "output_type": "stream",
     "text": [
      "Overwriting exercises/masses6.py\n"
     ]
    }
   ],
   "source": [
    "%%writefile exercises/masses6.py\n",
    "\n",
    "# A series of masses connected by springs vibrate, simulating a 1D wave propagation through connected masses. \n",
    "# A fixed configuration of 6 masses connected by springs is used. \n",
    "# The simulation includes fixed boundary conditions, where both ends are set to zero displacement.\n",
    "#\n",
    "# To run the code\n",
    "#   python masses6.py\n",
    "\n",
    "import numpy as np\n",
    "import matplotlib.pyplot as plt\n",
    "import time\n",
    "\n",
    "# Simulation parameters\n",
    "mass = 1.0                 # Mass of each particle (kg)\n",
    "spring_constant = 100.0     # Spring constant (N/m)\n",
    "damping_coefficient = 0.5   # Damping coefficient (Ns/m)\n",
    "time_step = 0.01            # Time step (s)\n",
    "num_steps = 100             # Total number of time steps\n",
    "\n",
    "# Initial conditions: positions and velocities for 6 masses\n",
    "positions = np.array([0.0, 0.0, 1.0, 0.0, 0.0, 0.0])  # Initial pulse at the center mass\n",
    "velocities = np.zeros(6)                         # Start with zero initial velocity for all masses\n",
    "\n",
    "# Wall clock time measurement\n",
    "start_time = time.time()\n",
    "\n",
    "# Main simulation loop\n",
    "for step in range(num_steps):\n",
    "    # Save the current state to calculate forces based on previous step positions\n",
    "    old_positions = positions.copy()\n",
    "    \n",
    "    # Calculate the forces on each mass\n",
    "    for i in range(6):\n",
    "        if i == 0:\n",
    "            # Fixed boundary at the left end (mass 1)\n",
    "            left_position = 0.0\n",
    "        else:\n",
    "            left_position = old_positions[i - 1]\n",
    "\n",
    "        if i == 5:\n",
    "            # Fixed boundary at the right end (mass 6)\n",
    "            right_position = 0.0\n",
    "        else:\n",
    "            right_position = old_positions[i + 1]\n",
    "\n",
    "        # Calculate forces based on spring displacements and damping\n",
    "        spring_force_left = -spring_constant * (positions[i] - left_position)\n",
    "        spring_force_right = -spring_constant * (positions[i] - right_position)\n",
    "        damping_force = -damping_coefficient * velocities[i]\n",
    "        net_force = spring_force_left + spring_force_right + damping_force\n",
    "\n",
    "        # Update velocity and position based on the net force\n",
    "        acceleration = net_force / mass\n",
    "        velocities[i] += acceleration * time_step\n",
    "        positions[i] += velocities[i] * time_step\n",
    "\n",
    "# Elapsed time calculation\n",
    "end_time = time.time()\n",
    "elapsed_time = end_time - start_time\n",
    "print(f\"Total wall clock time: {elapsed_time:.4f} seconds\")\n",
    "\n",
    "# Plot the positions of the masses at the end of the simulation\n",
    "plt.plot(positions, 'bo-')\n",
    "plt.xlabel(\"Mass\")\n",
    "plt.ylabel(\"Position\")\n",
    "plt.title(\"Position of Masses\")\n",
    "plt.savefig('masses6.png')\n"
   ]
  },
  {
   "cell_type": "markdown",
   "id": "09b6b6cf-8cb6-4730-9366-ee4bee6a9389",
   "metadata": {},
   "source": [
    "**Run it:**"
   ]
  },
  {
   "cell_type": "code",
   "execution_count": 74,
   "id": "daf39261-71c1-448d-82ee-d15b50d97cdb",
   "metadata": {},
   "outputs": [
    {
     "name": "stdout",
     "output_type": "stream",
     "text": [
      "Total wall clock time: 0.0010 seconds\n"
     ]
    }
   ],
   "source": [
    "! python exercises/masses6.py"
   ]
  },
  {
   "cell_type": "markdown",
   "id": "69809436-18a9-4275-bb58-04a0cb419a2d",
   "metadata": {},
   "source": [
    "(b)"
   ]
  },
  {
   "cell_type": "code",
   "execution_count": 76,
   "id": "4080ff94-9834-4062-9a96-025652c45e49",
   "metadata": {},
   "outputs": [
    {
     "name": "stdout",
     "output_type": "stream",
     "text": [
      "Overwriting exercises/masses6_pingpong.py\n"
     ]
    }
   ],
   "source": [
    "%%writefile exercises/masses6_pingpong.py\n",
    "\n",
    "# Each process represents a single mass in a chain of masses connected by springs. \n",
    "# Each mass updates its position based on the displacement of its neighboring masses, simulating the propagation of a wave through the system.\n",
    "# The simulation includes fixed boundary conditions, where both ends are set to zero displacement.\n",
    "# MPI is used for communication between processes.\n",
    "#\n",
    "# The code calculate execution time\n",
    "#\n",
    "# Run the code with 6 processes using the following command:\n",
    "#           mpiexec -n 6 python masses6_pingpong.py\n",
    "\n",
    "from mpi4py import MPI\n",
    "import numpy as np\n",
    "import matplotlib.pyplot as plt\n",
    "\n",
    "# MPI setup\n",
    "comm = MPI.COMM_WORLD\n",
    "rank = comm.Get_rank()\n",
    "size = comm.Get_size()\n",
    "\n",
    "# Check if we are using exactly 5 processes\n",
    "if size != 6:\n",
    "    if rank == 0:\n",
    "        print(\"This program requires exactly 6 processes.\")\n",
    "    exit()\n",
    "\n",
    "# Simulation parameters\n",
    "mass = 1.0                 # Mass of each particle (kg)\n",
    "spring_constant = 100.0     # Spring constant (N/m)\n",
    "damping_coefficient = 0.5   # Damping coefficient (Ns/m)\n",
    "time_step = 0.01            # Time step (s)\n",
    "num_steps = 100             # Total number of time steps\n",
    "\n",
    "# Initial conditions\n",
    "position = 1.0 if rank == 2 else 0.0  # Initial pulse at the center mass (mass 3)\n",
    "velocity = 0.0                        # Start with zero initial velocity\n",
    "\n",
    "# Wall clock time measurement\n",
    "start_time = MPI.Wtime()\n",
    "\n",
    "# Main simulation loop\n",
    "for step in range(num_steps):\n",
    "    # Exchange boundary information with neighbors\n",
    "    if rank > 0:\n",
    "        # Send position to the left neighbor and receive from the left\n",
    "        comm.send(position, dest=rank - 1, tag=17)\n",
    "        left_position = comm.recv(source=rank - 1, tag=23)\n",
    "    else:\n",
    "        left_position = 0.0  # Fixed boundary at the left end (mass 1)\n",
    "\n",
    "    if rank < size - 1:\n",
    "        # Send position to the right neighbor and receive from the right\n",
    "        comm.send(position, dest=rank + 1, tag=23)\n",
    "        right_position = comm.recv(source=rank + 1, tag=17)\n",
    "    else:\n",
    "        right_position = 0.0  # Fixed boundary at the right end (mass 5)\n",
    "\n",
    "    # Calculate forces based on spring displacements and damping\n",
    "    spring_force_left = -spring_constant * (position - left_position)\n",
    "    spring_force_right = -spring_constant * (position - right_position)\n",
    "    damping_force = -damping_coefficient * velocity\n",
    "    net_force = spring_force_left + spring_force_right + damping_force\n",
    "\n",
    "    # Update velocity and position based on the net force\n",
    "    acceleration = net_force / mass\n",
    "    velocity += acceleration * time_step\n",
    "    position += velocity * time_step\n",
    "\n",
    "# Gather the final positions from all processes\n",
    "all_positions = comm.gather(position, root=0)\n",
    "all_velocities = comm.gather(velocity, root=0)\n",
    "\n",
    "# Calculate the elapsed time\n",
    "if rank == 0:\n",
    "    end_time = MPI.Wtime()\n",
    "    elapsed_time = end_time - start_time\n",
    "    print(f\"Total wall clock time: {elapsed_time:.4f} seconds\")\n",
    "\n",
    "# Plot the final positions\n",
    "if rank == 0:\n",
    "    plt.plot(range(1, 7), all_positions, 'bo-')\n",
    "    plt.xlabel(\"Mass Number\")\n",
    "    plt.ylabel(\"Position\")\n",
    "    plt.title(\"Final Positions of Masses\")\n",
    "    plt.grid(True)\n",
    "    plt.savefig('massses_mpi.png')"
   ]
  },
  {
   "cell_type": "markdown",
   "id": "ceb7598d-3ec9-4f65-8c60-33ca133377bd",
   "metadata": {},
   "source": [
    "**Run it:**"
   ]
  },
  {
   "cell_type": "code",
   "execution_count": 78,
   "id": "77041d1f-106c-42fe-951a-3e70a90c92e6",
   "metadata": {},
   "outputs": [
    {
     "name": "stdout",
     "output_type": "stream",
     "text": [
      "Total wall clock time: 0.0055 seconds\n"
     ]
    }
   ],
   "source": [
    "! mpiexec -n 6 python exercises/masses6_pingpong.py"
   ]
  },
  {
   "attachments": {},
   "cell_type": "markdown",
   "id": "87ea568e-75b6-4b41-97cd-d9ba4ca60a7c",
   "metadata": {},
   "source": [
    "<img src=\"img/exercise.png\" width=\"45\"> **Exercise 5**\n",
    "<br>\n",
    "\n",
    "### Speedup\n",
    "\n",
    "Calculate the speedup using the serial and mpi code versions. Submit your explanation of the obtained result in Exercise 5 on Ortus."
   ]
  },
  {
   "cell_type": "code",
   "execution_count": null,
   "id": "3806c992-d5cb-47f6-a1bd-7ac63585de8b",
   "metadata": {},
   "outputs": [],
   "source": []
  }
 ],
 "metadata": {
  "kernelspec": {
   "display_name": "Python 3 (ipykernel)",
   "language": "python",
   "name": "python3"
  },
  "language_info": {
   "codemirror_mode": {
    "name": "ipython",
    "version": 3
   },
   "file_extension": ".py",
   "mimetype": "text/x-python",
   "name": "python",
   "nbconvert_exporter": "python",
   "pygments_lexer": "ipython3",
   "version": "3.12.4"
  }
 },
 "nbformat": 4,
 "nbformat_minor": 5
}
