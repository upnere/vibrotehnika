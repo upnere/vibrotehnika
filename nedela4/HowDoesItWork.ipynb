{
 "cells": [
  {
   "cell_type": "markdown",
   "id": "2b7eac08-f5b0-47fe-9e8a-53f6a354133f",
   "metadata": {},
   "source": [
    "# How does it work?\n",
    "\n",
    "## Useful Linux commands\n",
    "\n",
    "**pwd** &emsp; prints the current working directory path.\n",
    "\n",
    "**ls** &emsp; &emsp; lists directory contents of files and directories.\n",
    "\n",
    "**cd** &emsp; &emsp;stands for change directory. This command allows the user to move from one directory to another.\n"
   ]
  },
  {
   "cell_type": "markdown",
   "id": "1696c767-1f17-4dad-bbdd-c8b661c7f496",
   "metadata": {},
   "source": [
    "## How do I run MPI?\n",
    "\n",
    "To install MPI on a local machine, go to *Anaconda3 / Anaconda Prompt* and install the mpi4py module. On JupyterHub - open Terminal."
   ]
  },
  {
   "cell_type": "raw",
   "id": "b1c32b48-2273-429b-8253-47b9c2da757a",
   "metadata": {},
   "source": [
    "python -m pip install mpi4py"
   ]
  },
  {
   "cell_type": "markdown",
   "id": "4bb28141-f5b3-4cee-8546-257eff9bcd7c",
   "metadata": {},
   "source": [
    "## Simple Python script\n",
    "\n",
    "Usually, when you run a Python program, you will use something like this:"
   ]
  },
  {
   "cell_type": "raw",
   "id": "a826baad-aa8c-4400-8b6c-a1ff24df1065",
   "metadata": {},
   "source": [
    "python my_program.py --argument1 --argument2 ..."
   ]
  },
  {
   "cell_type": "markdown",
   "id": "54076558-21ba-42a7-8bc5-27e6ccb1dd00",
   "metadata": {},
   "source": [
    "Similarly, when you run an MPI-enabled program, you will use a launcher to start multiple processes of your program:"
   ]
  },
  {
   "cell_type": "raw",
   "id": "b8c7a71d-8a91-4a03-8609-57f6d4ddd8f6",
   "metadata": {},
   "source": [
    "mpiexec python my_program.py --argument1 ..."
   ]
  },
  {
   "cell_type": "markdown",
   "id": "8e4d566e-8254-4b3d-9fc2-a51bae70b873",
   "metadata": {
    "tags": []
   },
   "source": [
    "The default configuration on most machines, when using OpenMPI, is to use the same number of processes that there are cores available.\n",
    "\n",
    "It is possible to specify exactly the number of processes you want, for example if you are memory constrained. This would launch your program using 2 processes:"
   ]
  },
  {
   "cell_type": "raw",
   "id": "d456248a-87e6-45f0-9645-27845bc1a240",
   "metadata": {},
   "source": [
    "mpiexec -n 2 python my_program.py --argument1 ..."
   ]
  },
  {
   "cell_type": "markdown",
   "id": "3b0bf4a3-9bc7-4c54-b27b-5b7ec59d0ff8",
   "metadata": {
    "tags": []
   },
   "source": [
    "If you try to run a non-MPI-enabled program using the mpirun launcher, you will have 2 instances doing exactly the same thing, not communicating with each other. When doing parallel computation, you want to split your input data and distribute it amongst all participant processes.\n",
    "\n",
    "## MPI-enabled Python script\n",
    "\n",
    "The most basic MPI-enabled program would look like this:"
   ]
  },
  {
   "cell_type": "code",
   "execution_count": 21,
   "id": "92bb391f-649f-4e50-9c25-a5730c29cb48",
   "metadata": {
    "tags": []
   },
   "outputs": [
    {
     "name": "stdout",
     "output_type": "stream",
     "text": [
      "Writing exercises/hello.py\n"
     ]
    }
   ],
   "source": [
    "%%writefile exercises/myMPI.py\n",
    "\n",
    "from mpi4py import MPI\n",
    "\n",
    "comm = MPI.COMM_WORLD\n",
    "rank = comm.Get_rank()\n",
    "size = comm.Get_size()\n",
    "\n",
    "print(\"I am rank\", rank, \"of\", size)"
   ]
  },
  {
   "cell_type": "markdown",
   "id": "83df0e9f-923b-474f-a1f2-04ec11489a7a",
   "metadata": {},
   "source": [
    "We first import the MPI library from the **mpi4py** package. The **comm** variable stands for *communicator*, which is a fundamental part of the MPI programming paradigm: all communication between processes or groups of processes are sent using a communicator. You can see it as a pool of processes participating in a meeting. One communicator, called world, always exist and includes all processes.\n",
    "\n",
    "The other interesting concept is the *rank*. Each process is assigned a unique number, ranging from 0 to *n*-1, where *n* is the total number of processes. This unique number is called a rank and is used to communicate with one process in particular.\n",
    "\n",
    "Let’s try our first run of our MPI program:"
   ]
  },
  {
   "cell_type": "code",
   "execution_count": 18,
   "id": "44ddcf48-98eb-45e2-aaca-81a5c75329b3",
   "metadata": {
    "tags": []
   },
   "outputs": [
    {
     "name": "stdout",
     "output_type": "stream",
     "text": [
      "I am rank 2 of 4\n",
      "I am rank 0 of 4\n",
      "I am rank 1 of 4\n",
      "I am rank 3 of 4\n"
     ]
    }
   ],
   "source": [
    "! mpiexec -np 4 python exercises/myMPI.py"
   ]
  },
  {
   "cell_type": "markdown",
   "id": "366d679a-b4f2-4c15-b9c5-4f2f22142623",
   "metadata": {},
   "source": [
    "As expected, we have 4 ranks, numbered 0 to 3. The interesting thing to notice is that the output is not sequential. This is the first thing to remember: those processes are really independent processes. They do their own thing, whenever they are ready, unless we synchronize them in some way, either explicitly or by adding communication between them."
   ]
  }
 ],
 "metadata": {
  "kernelspec": {
   "display_name": "Python 3 (ipykernel)",
   "language": "python",
   "name": "python3"
  },
  "language_info": {
   "codemirror_mode": {
    "name": "ipython",
    "version": 3
   },
   "file_extension": ".py",
   "mimetype": "text/x-python",
   "name": "python",
   "nbconvert_exporter": "python",
   "pygments_lexer": "ipython3",
   "version": "3.12.4"
  }
 },
 "nbformat": 4,
 "nbformat_minor": 5
}
