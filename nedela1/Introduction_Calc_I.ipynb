{
 "cells": [
  {
   "cell_type": "markdown",
   "id": "bff3b6f6-f3e6-4df1-9806-10c01958369f",
   "metadata": {},
   "source": [
    "**You can edit the exercises directly in the cells.**<br>\n",
    "- **Jupyter notebook quick start:**\n",
    "- \\<Shift>+\\<Return> --> runs a cell\n",
    "- ! --> shell escape [! Linux command line]\n",
    "- use a (above) and b (below) left of the [ ] to open new cells\n",
    "&nbsp;<br>;<br>"
   ]
  },
  {
   "cell_type": "markdown",
   "id": "ff432c75-41ed-443b-b2dc-6cfb15cf50b5",
   "metadata": {
    "tags": []
   },
   "source": [
    "# Calculations using Python. Part I\n",
    "\n",
    "## Learning Objectives\n",
    "\n",
    "After studying this notebook, you will be able to:\n",
    "* Do simple calculations using formulas\n",
    "* Create user-defined functions\n",
    "* Understand the difference between global and local variables\n",
    "* Control the program flow by *if-else* statement\n",
    "* Create comments\n",
    "\n",
    "---"
   ]
  },
  {
   "cell_type": "markdown",
   "id": "cfd5ed6c-1693-4889-a914-695ca378bfb1",
   "metadata": {
    "tags": []
   },
   "source": [
    "## The First Example\n",
    "\n",
    "Most introductory books on programming start with a so-called Hello, World! program, which is a program that simply writes Hello, World! to the screen. In Python, we can write a text on the screen with a single line\n",
    "\n",
    "~~~python\n",
    "print(\"Vibrotechnology and Vibromachines\")\n",
    "~~~\n",
    "\n",
    "To write and run such a program, Python offers a number of different options. Later throughout this course, we will mostly apply the classical programming approach, where a program is written in a text editor and stored as a file that is then run from the command line window or an integrated development environment (IDE). \n",
    "\n",
    "First, though, for simplicity's sake, let's start with another way of using Python - *Jupyter Notebooks*, a type of interactive notebook that combines code and text, like here."
   ]
  },
  {
   "cell_type": "code",
   "execution_count": 16,
   "id": "335d0415-2442-4bb0-a373-f457ab50168c",
   "metadata": {},
   "outputs": [
    {
     "name": "stdout",
     "output_type": "stream",
     "text": [
      "Vibrotechnology and Vibromachines\n"
     ]
    }
   ],
   "source": [
    "print(\"Vibrotechnology and Vibromachines\")"
   ]
  },
  {
   "cell_type": "markdown",
   "id": "b86ae3a4-5cb7-491c-95ae-8d453c79a538",
   "metadata": {},
   "source": [
    "## Computing with Formulas\n",
    "\n",
    "We will first implement a formula for calculating the stiffness coefficient for a pinned-pinned beam (see Figure).\n",
    "\n",
    "$$\n",
    "k = \\frac{3EI(a+b)}{a^2b^2},\n",
    "$$\n",
    "\n",
    "where $E = 210 \\cdot 10^9$ N/m$^2$, $I = 5 \\cdot 10^{-4}$ m$^4$, $a=2$ m and $b=1$ m.\n",
    "\n",
    "<img src=\"img/pythonUzd01.png\" width=\"600\">\n",
    "\n",
    "The task is now to write a program that computes $k$ for given values. We could, of course, easily do so with a calculator, but a small program can be much more flexible and powerful. To evaluate the formula above, we first need to assign values to $E$, $I$, $a$, $b$, and then make the calculation. \n",
    "\n",
    "We can use variables in a program too, and this makes the program easier to read and understand. A Python program that does the calculation and outputs the result could be:"
   ]
  },
  {
   "cell_type": "code",
   "execution_count": 35,
   "id": "69115c45-b213-4989-9d68-fee5006bad14",
   "metadata": {},
   "outputs": [
    {
     "name": "stdout",
     "output_type": "stream",
     "text": [
      "189000000.0\n"
     ]
    }
   ],
   "source": [
    "E=210e+09\n",
    "I=5e-04\n",
    "a=2\n",
    "b=1\n",
    "\n",
    "k=3*(E*I*(a+b))/(a**2+b**2)\n",
    "print(k)"
   ]
  },
  {
   "cell_type": "markdown",
   "id": "6215eea4-3145-4b05-b9f3-8c4e392f7f03",
   "metadata": {},
   "source": [
    "First, notice that, in this case we did not use quotation marks inside the parentheses to print the result. This is because we want Python to evaluate the mathematical formula, and print the result to the screen, which works fine as long as the text inside the parentheses is valid Python code, or, more precisely, a valid *expression* that can be evaluated to produce a result. If we put quotation marks around the formula above, the code would still work, but the result is not what we want – try it!"
   ]
  },
  {
   "cell_type": "markdown",
   "id": "a94adb9a-17ad-4126-b2eb-caaa46a0962f",
   "metadata": {},
   "source": [
    "---\n",
    "<img src=\"img/exercise.png\" width=\"45\"> **Exercise 1**\n",
    "\n",
    "Create a program to calculate the stiffness coefficient for a fixed-fixed beam.\n",
    "\n",
    "$$\n",
    "k = \\frac{3EI(a+b)^3}{a^3b^3}.\n",
    "$$\n",
    "\n",
    "*Answer: 9.45e+08 N/m*\n",
    "\n",
    "---"
   ]
  },
  {
   "cell_type": "code",
   "execution_count": null,
   "id": "64a3b5a8-3663-4070-a97f-6965a8ef25db",
   "metadata": {},
   "outputs": [],
   "source": [
    "E=210e+09\n",
    "I=5e-04\n",
    "a=2\n",
    "b=1\n",
    "\n",
    "# Enter your code below"
   ]
  },
  {
   "cell_type": "markdown",
   "id": "032f452b-17c7-434f-969b-15eb5b21d333",
   "metadata": {},
   "source": [
    "Let's compare how the geometry of the cross-section affects the stiffness. \n",
    "First, let's supplement the program with a section that calculates a cylindrical rod's cross-sectional moment of inertia *I*.\n",
    "\n",
    "The area moment of inertia for a solid cylindrical section can be calculated as\n",
    "\n",
    "$$\n",
    "I_{c} = \\frac{\\pi}{4} r^4\n",
    "$$"
   ]
  },
  {
   "cell_type": "code",
   "execution_count": 59,
   "id": "5075f4be-0549-469e-8551-9526e3dd1e53",
   "metadata": {},
   "outputs": [
    {
     "name": "stdin",
     "output_type": "stream",
     "text": [
      "Enter a radius:  0.1\n"
     ]
    },
    {
     "name": "stdout",
     "output_type": "stream",
     "text": [
      "7.853981633974484e-05\n"
     ]
    }
   ],
   "source": [
    "# program for computing the area moment of inertia \n",
    "# for a solid cylinder\n",
    "from math import pi  # only importing Pi from Python math\n",
    "\n",
    "r = float(input(\"Enter radius: \"))  # input is of floating type\n",
    "\n",
    "Ic = pi*r**4/4\n",
    "print(Ic)"
   ]
  },
  {
   "cell_type": "markdown",
   "id": "5dd6e269-2cf9-4c2d-981d-af0d440d7802",
   "metadata": {},
   "source": [
    "---\n",
    "<img src=\"img/exercise.png\" width=\"45\"> **Exercise 2**\n",
    "\n",
    "Create a program to calculate the area moment of inertia for a tube with a hollow cylindrical cross-section.\n",
    "\n",
    "$$\n",
    "I_{c} = \\frac{\\pi}{4} (r_o^4 - r_i^4)\n",
    "$$\n",
    "\n",
    "---"
   ]
  },
  {
   "cell_type": "code",
   "execution_count": null,
   "id": "1640966d-a94e-46a5-80cb-b9f544517797",
   "metadata": {},
   "outputs": [],
   "source": [
    "# program for computing the area moment of inertia \n",
    "# for a tube\n",
    "from math import pi  # only importing Pi from Python math\n",
    "\n",
    "do, di = eval(input(\"Enter outer and inner diameters (numbers separated by a comma): \"))  # input is of floating type\n",
    "\n",
    "# Enter your code below"
   ]
  },
  {
   "cell_type": "markdown",
   "id": "72839f06-04bc-4c00-8a1a-cf6f02740e21",
   "metadata": {},
   "source": [
    "## Programming with Functions\n",
    "\n",
    "Functions provide a way of reusing code we have written ourselves, either in previous projects or as part of the current code. Functions let us delegate responsibilities and split a program into smaller tasks, which is essential for solving all problems of some complexity. \n",
    "\n",
    "Splitting a program into smaller functions is also convenient for testing and verifying that a program works as it should. We can write small pieces of code that test individual functions and ensure that they work correctly before putting the functions together into a complete program.\n",
    "\n",
    "So how do we write a function in Python? Starting with a simple example, consider the previously considered mathematical function\n",
    "\n",
    "$$\n",
    "k = \\frac{3EI(a+b)^3}{a^3b^3}\n",
    "$$\n",
    "\n",
    "We can implement this in Python as follows:"
   ]
  },
  {
   "cell_type": "code",
   "execution_count": null,
   "id": "f9b2b10c-d65d-4b6b-a2f0-433d4fc6cb46",
   "metadata": {},
   "outputs": [],
   "source": [
    "def stiffCoef(I):\n",
    "    E=210e+09\n",
    "    a=2\n",
    "    b=1\n",
    "\n",
    "    k=3*(E*I*(a+b)**3)/(a**3+b**3)\n",
    "    return(k)\n"
   ]
  },
  {
   "cell_type": "markdown",
   "id": "3bbf4816-2dda-4836-8148-77e58c3e8e9c",
   "metadata": {},
   "source": [
    "Starting with the first line, **def stiffCoef(I):** is called the function *header*, and defines the function’s interface. All function definitions in Python start with the word **def**, which is simply how we tell Python that the following code defines a function. \n",
    "\n",
    "After def comes the name of the function, followed by parentheses containing the function’s *arguments* (sometimes called parameters). This simple function takes a single argument, but we can define functions that take multiple arguments by separating the arguments with commas. The parentheses need to be there, even if we do not want the function to take any arguments, in which case we would just leave the parentheses empty. \n",
    "\n",
    "The lines following the function header are the *function body*, which need to be indented.The three first lines of the function body are regular assignments, but since they occur inside a function, they define *local variables* $E$, $a$ and $b$. Local variables the argument $I$\n",
    "\n",
    "The last line of the function body starts with the keyword **return**, which is also new in this chapter and is used to specify the output returned by the function. It is important not to confuse this return statement with the print statements we used previously. The use of print will simply output something to the screen, while return makes the function provide an output, which can be thought of as a variable being passed back to the code that called the function.\n",
    "\n",
    "Another important thing to note about the code above is that it does not do much. In fact, a function definition does essentially nothing before it is **called**. The analogue to the function definition in mathematics is to simply write down a function $f(x)$ as a mathematical expression. This defines the function, but there is no output until we start evaluating the function for some specific values of $x$. \n",
    "\n",
    "In programming, we say that we call the function when we use it. When programming with functions, it is common to refer to the *main program* as basically every line of code that is not inside a function. When running the program, only the statements in the main program are executed. Code inside function definitions is not run until we include a call to the function in the main program."
   ]
  },
  {
   "cell_type": "code",
   "execution_count": 92,
   "id": "2a51b421-624b-4753-bae3-22934967e8ce",
   "metadata": {},
   "outputs": [
    {
     "name": "stdout",
     "output_type": "stream",
     "text": [
      "The stiffness coefficient of the 1st case is k = 148438710.0 \n",
      "The stiffness coefficient of the 1st case is k = 945000000.0\n"
     ]
    }
   ],
   "source": [
    "I1 = 7.8539e-05 # case 1\n",
    "k1 = stiffCoef(I1) # call the function\n",
    "I2 = 5e-04\n",
    "k2 = stiffCoef(I2)\n",
    "print(\"The stiffness coefficient of the 1st case is k =\",k1,\"\\nThe stiffness coefficient of the 1st case is k =\",k2)"
   ]
  },
  {
   "cell_type": "markdown",
   "id": "e4f09f22-c124-4653-b277-4001e1cdcbe3",
   "metadata": {},
   "source": [
    "## Local and Global Variables\n",
    "\n",
    "The distinction between local and global variables is generally important in programming, and can be confusing at first. As stated above, the arguments passed to a function, as well as variables we define inside the function, become local variables. These variables behave exactly as we are used to inside the function, but are not visible outside it. The potential source of confusion is that global variables are also accessible inside a function, just as everywhere else in the code. We could have assigned a value to the variables $a$ and $b$ outside the function, anywhere before the first call to amount, and the code would still work:"
   ]
  },
  {
   "cell_type": "code",
   "execution_count": 3,
   "id": "57f1df6d-5b95-40aa-8eb8-88937a34c26f",
   "metadata": {},
   "outputs": [
    {
     "name": "stdout",
     "output_type": "stream",
     "text": [
      "2 1\n",
      "945000000.0\n"
     ]
    }
   ],
   "source": [
    "a=2 #global variable\n",
    "b=1 #global variable\n",
    "\n",
    "def stiffCoef(I):\n",
    "    E=210e+09 #local variable\n",
    "\n",
    "    k=3*(E*I*(a+b)**3)/(a**3+b**3)\n",
    "    return(k)\n",
    "\n",
    "print(a,b)\n",
    "print(stiffCoef(5e-04))"
   ]
  },
  {
   "cell_type": "markdown",
   "id": "44870bca-1721-40a9-9376-2b25561f1117",
   "metadata": {},
   "source": [
    "---\n",
    "<img src=\"img/exercise.png\" width=\"45\"> **Exercise 3**\n",
    "\n",
    "Modify the program above so that the end-user can enter the values of $a$ and $b$ after running the script.\n",
    "\n",
    "---"
   ]
  },
  {
   "cell_type": "code",
   "execution_count": null,
   "id": "1265d979-a73a-4ab5-b90d-36e8075f3ce8",
   "metadata": {},
   "outputs": [],
   "source": []
  },
  {
   "cell_type": "markdown",
   "id": "ceaae85c-36bb-4bbc-b3dd-e5ad49918c3b",
   "metadata": {},
   "source": [
    "An important Python convention is to document the purpose of a function, its arguments, and its return values in a *doc string* - a (triple-quoted) string written immediately after the function header. The doc string can be long or short, depending on the complexity of the function and its inputs and outputs.\n",
    "\n",
    "Doc strings do not take much time to write, and are very useful for others who want to use the function. A widely accepted convention in the Python community, doc strings are also used by various tools for automatically generating nicely formatted software documentation."
   ]
  },
  {
   "cell_type": "code",
   "execution_count": 12,
   "id": "f28212ce-1205-49c9-bc24-09fba158ef3d",
   "metadata": {},
   "outputs": [
    {
     "name": "stdout",
     "output_type": "stream",
     "text": [
      "945000000.0\n"
     ]
    }
   ],
   "source": [
    "a=2 #global variable\n",
    "b=1 #global variable\n",
    "\n",
    "def stiffCoef(I):\n",
    "    \"\"\"\n",
    "    Compute the stiffness coefficient k[N/m] for fixed-fixed beam\n",
    "    I: The area moment of inertia [m^4]\n",
    "    E: Young's modulus\n",
    "    \"\"\"\n",
    "\n",
    "    E=210e+09 #local variable\n",
    "    k=3*(E*I*(a+b)**3)/(a**3+b**3)\n",
    "    return(k)\n",
    "\n",
    "print(stiffCoef(5e-04))"
   ]
  },
  {
   "cell_type": "markdown",
   "id": "aeceeb4e-47d9-4673-bb72-9824c9bcbe7a",
   "metadata": {},
   "source": [
    "## If-Tests for Branching the Program Flow\n",
    "\n",
    "In computer programs we often want to perform different actions depending on a condition. As usual, we can find a similar concept in mathematics. Consider a function defined in a piecewise manner, for instance,\n",
    "\n",
    "$$\n",
    "f(x) = \\begin{cases} sin(x),~0<x<\\pi \\\\ 0 \\end{cases}\n",
    "$$\n",
    "\n",
    "The Python implementation of such a function needs to test the value of the input $x$, and return either zero or *sin(x)* depending on the outcome. Such a decision in the program code is called *branching* and is obtained using an **if-test**, or, more generally, an **if-else block**. The code looks like"
   ]
  },
  {
   "cell_type": "code",
   "execution_count": 12,
   "id": "2126d2a6-d437-4f03-aa73-34b2957c7372",
   "metadata": {},
   "outputs": [
    {
     "name": "stdout",
     "output_type": "stream",
     "text": [
      "0.479425538604203\n",
      "0\n"
     ]
    }
   ],
   "source": [
    "from math import sin, pi \n",
    "\n",
    "def f(x): \n",
    "    if 0<x<pi: \n",
    "        return sin(x) \n",
    "    else: \n",
    "        return 0 \n",
    "    \n",
    "print(f(0.5)) \n",
    "print(f(5*pi))"
   ]
  },
  {
   "cell_type": "markdown",
   "id": "5dce743c-f4fe-41ae-9273-15a30da87fef",
   "metadata": {},
   "source": [
    "An if-test is simply constructed by the keyword *if* followed by a Boolean variable or expression, and then a block of code which is to be executed if the condition is true. When the iftest is reached in the function above, the Boolean condition is tested. If the condition is true, the following block of indented code is executed (in this case, just one line); if not, the indented code block after *else* is executed."
   ]
  },
  {
   "cell_type": "markdown",
   "id": "0f2a9d8b-823c-4c6f-a4f2-0cd2e3c11653",
   "metadata": {},
   "source": [
    "**Inline if-tests for shorter code**. A common use of *if-else* blocks is to assign a value to a variable, where the value depends on some condition, just as in the examples above. Using this compact notation, we can write the example from the start of this section as"
   ]
  },
  {
   "cell_type": "code",
   "execution_count": 19,
   "id": "f64f2aba-f555-4eb0-a165-de91ba4d4e8b",
   "metadata": {},
   "outputs": [
    {
     "name": "stdout",
     "output_type": "stream",
     "text": [
      "0\n"
     ]
    }
   ],
   "source": [
    "from math import sin, pi \n",
    "\n",
    "def f(x): \n",
    "    return (sin(x) if 0<x<pi else 0)\n",
    "\n",
    "print(f(2.5*pi))"
   ]
  },
  {
   "attachments": {},
   "cell_type": "markdown",
   "id": "c2ba1978-b6a4-46d1-9f83-28517a388223",
   "metadata": {},
   "source": [
    "---\n",
    "<img src=\"img/exercise.png\" width=\"45\"> **Exercise 4**\n",
    "\n",
    "Create a program to calculate the stiffness coefficient of the beam at its midspan. The end user can choose the boundary conditions, i.e. a pinned-pinned or fixed-fixed beam. The selected case is determined by the number entered: 1 for the first case, 2 for the second.\n",
    "\n",
    "$$\n",
    "k_{pp} = 48 \\frac{EI}{L^3}\n",
    "$$\n",
    "$$\n",
    "k_{ff} = 192 \\frac{EI}{L^3}\n",
    "$$\n",
    "\n",
    "---"
   ]
  },
  {
   "cell_type": "code",
   "execution_count": null,
   "id": "32f5d1ae-9da3-4026-acff-c49dcca83e33",
   "metadata": {},
   "outputs": [],
   "source": []
  },
  {
   "cell_type": "markdown",
   "id": "37e58370-37e7-488e-905e-cb06115e830f",
   "metadata": {},
   "source": [
    "---\n",
    "<img src=\"img/hw.png\" width=\"40\"> **Homework 1** (optional)\n",
    "\n",
    "Create a *Jupyter Notebook* in which you explain one of the following topics: \n",
    "\n",
    "* Stiffness coefficients\n",
    "* Springs in combination\n",
    "\n",
    "Give numerical examples and their Python solutions. \n",
    "\n",
    "*Upload the notebook file to Ortus until the following lessons.*\n",
    "\n",
    "---"
   ]
  },
  {
   "cell_type": "markdown",
   "id": "38d0d772-5bd7-408d-97b7-3a1724546f1d",
   "metadata": {},
   "source": [
    "## References\n",
    "\n",
    "J. Sundnes. *Introduction to Scientific Programming with Python*, Springer International Publishing, 2020."
   ]
  }
 ],
 "metadata": {
  "kernelspec": {
   "display_name": "Python 3 (ipykernel)",
   "language": "python",
   "name": "python3"
  },
  "language_info": {
   "codemirror_mode": {
    "name": "ipython",
    "version": 3
   },
   "file_extension": ".py",
   "mimetype": "text/x-python",
   "name": "python",
   "nbconvert_exporter": "python",
   "pygments_lexer": "ipython3",
   "version": "3.12.4"
  }
 },
 "nbformat": 4,
 "nbformat_minor": 5
}
