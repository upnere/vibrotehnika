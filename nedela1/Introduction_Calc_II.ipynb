{
 "cells": [
  {
   "cell_type": "markdown",
   "id": "82774821-30fe-4cd5-8c04-ecf9727c3e37",
   "metadata": {},
   "source": [
    "**You can edit the exercises directly in the cells.**<br>\n",
    "- **Jupyter notebook quick start:**\n",
    "- \\<Shift>+\\<Return> --> runs a cell\n",
    "- ! --> shell escape [! Linux command line]\n",
    "- use a (above) and b (below) left of the [ ] to open new cells\n",
    "&nbsp;<br>;<br>"
   ]
  },
  {
   "cell_type": "markdown",
   "id": "ff432c75-41ed-443b-b2dc-6cfb15cf50b5",
   "metadata": {},
   "source": [
    "# Calculations using Python. Part II\n",
    "\n",
    "## Learning Objectives\n",
    "\n",
    "After studying this notebook, you will be able to:\n",
    "* Create lists and tuples of data\n",
    "* Apply *for* and *while* loops\n",
    "* Create and use arrays\n",
    "* Calculate inner (dot or scalar) product, including for complex numbers\n",
    "* Create and format plots\n",
    "\n"
   ]
  },
  {
   "cell_type": "markdown",
   "id": "112f844c-4e49-4022-8d1f-c1d0b1e0a902",
   "metadata": {},
   "source": [
    "## Using Lists to Store Sequences of Data\n",
    "\n",
    "So far, we have used one variable to refer to one number (or string). Sometimes we have a collection of numbers and sometimes we want to store a sequence of such variables, for instance, to process them further elsewhere in the program. We could, of course, use a separate variable for each value of $n$, as follows: \n",
    "\n",
    "n0 = 0  \n",
    "n1 = 1  \n",
    "n2 = 2  \n",
    "...  \n",
    "n10 = 10\n",
    "\n",
    "However, this is another example of programming that becomes extremely repetitive and boring, and there is obviously a better solution. In Python, the most flexible way to store such a sequence of variables is to use a list:\n",
    "\n",
    "~~~Python\n",
    "n = [0, 1, 2, 3, 4, 5, 6, 7, 8, 9, 10]\n",
    "~~~\n",
    "\n",
    "Notice the square brackets and the commas separating the values, which is how we tell Python that $n$ is a list variable. Now we have a single variable that can hold all the values we want. Python lists are not reserved just for numbers and can hold any kind of object, and even different kinds of objects. They also have a great deal of convenient built-in functionality, which makes them very flexible and useful and extremely popular in Python programs.\n",
    "\n",
    "We have already seen how to initialize a list using square brackets and comma-separated values, such as\n",
    "\n",
    "~~~Python\n",
    "L1 = [-91, 'a string', 7.2, 0]\n",
    "~~~\n",
    "\n",
    "To retrieve individual elements from the list, we can use an index, for instance L1[3] will pick out the element with index 3, that is, the fourth element (having a value of zero) in the list, since the numbering starts at zero. List indices start at zero and run to the $n$ − 1, where $n$ is the number of elements in the list."
   ]
  },
  {
   "cell_type": "code",
   "execution_count": 17,
   "id": "3c19cefe-8863-4564-9364-599dcbdadc80",
   "metadata": {},
   "outputs": [
    {
     "name": "stdout",
     "output_type": "stream",
     "text": [
      "4\n",
      "6\n",
      "-3.5\n",
      "Length of list is 3\n"
     ]
    }
   ],
   "source": [
    "mylist = [4, 6, -3.5] \n",
    "print(mylist[0]) \n",
    "print(mylist[1]) \n",
    "print(mylist[2]) \n",
    "print('Length of list is',len(mylist)) # length of list"
   ]
  },
  {
   "cell_type": "markdown",
   "id": "e61f87bc-3075-4c28-9c78-883a94528da0",
   "metadata": {},
   "source": [
    "The last line uses the built-in Python function **len**, which returns the number of elements in the list. This function works on lists and any other object that has a natural length (e.g., strings), and is very useful. \n",
    "\n",
    "Other built-in list operations allow us, for instance, to append an element to a list, add two lists together, check if a list contains a given element, and delete an element from a list:"
   ]
  },
  {
   "cell_type": "code",
   "execution_count": 18,
   "id": "e17f1369-8e2a-41bb-8960-ba1ce76687fb",
   "metadata": {},
   "outputs": [
    {
     "name": "stdout",
     "output_type": "stream",
     "text": [
      "[0, 1, 2, 3, 4, 5, 6, 7, 8, 9]\n",
      "[0, 1, 2, 3, 4, 5, 6, 7, 8, 9, 10, 11]\n",
      "True\n",
      "[1, 2, 3, 4, 5, 6, 7, 8, 9, 10, 11]\n"
     ]
    }
   ],
   "source": [
    "A = [0, 1, 2, 3, 4, 5, 6, 7, 8] \n",
    "A.append(9) # add new element 9 at the end \n",
    "print(A) \n",
    "A = A + [10, 11] # extend n at the end \n",
    "print(A) \n",
    "print(9 in A) #is the value 9 found in n? True/False \n",
    "del A[0] #remove the first item from the list\n",
    "print(A)"
   ]
  },
  {
   "cell_type": "markdown",
   "id": "fdef1e2a-7b1a-4711-8e0d-03b6f3acde9e",
   "metadata": {},
   "source": [
    "**List slicing is used to extract parts of a list.** For a list A, we have seen that a single element is extracted with A[n], where n is an integer, but we can also use the more general syntax A[start:stop:step] to extract a slice of A. The following examples illustrate the use of slicing:"
   ]
  },
  {
   "cell_type": "code",
   "execution_count": 21,
   "id": "952e4321-bba7-4007-b108-7739eb0ebb81",
   "metadata": {},
   "outputs": [
    {
     "data": {
      "text/plain": [
       "[2, 3.5, 8, 10]"
      ]
     },
     "execution_count": 21,
     "metadata": {},
     "output_type": "execute_result"
    }
   ],
   "source": [
    "a = [2, 3.5, 8, 10] \n",
    "a[2:] # from index 2 to end of list\n",
    "a[1:3] # from index 1 up to, but not incl., index 3\n",
    "a[:3] # from start up to, but not incl., index 3 \n",
    "a[1:-1] # from index 1 to next last element \n",
    "a[:] # the whole list"
   ]
  },
  {
   "cell_type": "markdown",
   "id": "8ec6d44e-43aa-453d-b5f6-3bde858e2046",
   "metadata": {},
   "source": [
    "## Iterating Over a List with a **for** Loop\n",
    "\n",
    "The *for* loop iterates over elements in a list, and performs operations on each one:\n",
    "\n",
    "~~~Python\n",
    " for element in list:  \n",
    "    <statement 1>  \n",
    "    <statement 2>  \n",
    "    ...  \n",
    " <first statement after loop>\n",
    "~~~\n",
    "\n",
    "The key line is the first one, which will run through the list, element by element. For each pass of the loop, the single element is stored in the variable *element*, and the block of code inside the for loop typically involves calculations using this element variable. When the code lines in this block are completed, the loop moves on to the next element in the list, and continues in this manner until there are no more elements in the list."
   ]
  },
  {
   "cell_type": "markdown",
   "id": "58a6d32e-4a28-47c8-a717-7109ae291cac",
   "metadata": {},
   "source": [
    "**Using the function range to loop over indices**. Sometimes we do not have a list, but want to repeat the same operation a given number of times. If we know the number of repetitions this task is an obvious candidate for a for loop, but for loops in Python always iterate over an existing list (or a list-like object). The solution is to use a built-in Python function named *range*, which returns a list of integers.\n",
    "\n",
    "A very common example of a repetitive task in mathematics is the computation of a sum, for instance,\n",
    "\n",
    "$$\n",
    "S = \\sum_{i=1}^n i^2\n",
    "$$\n",
    "\n",
    "For large values of $n$ such sums are tedious to calculate by hand, but they are very easy to program using range and a for loop:"
   ]
  },
  {
   "cell_type": "code",
   "execution_count": 61,
   "id": "d8c99113-bc26-4a58-8547-d43fbd9d29b8",
   "metadata": {},
   "outputs": [],
   "source": [
    "N=14 \n",
    "S=0 \n",
    "for i in range(1, N+1): \n",
    "    S += i**2"
   ]
  },
  {
   "cell_type": "markdown",
   "id": "33d6f17b-7645-438f-8b74-16e444cc2e29",
   "metadata": {},
   "source": [
    "**How can we change the elements in a list?** In some cases we want to change elements in a list."
   ]
  },
  {
   "cell_type": "code",
   "execution_count": 63,
   "id": "eb1d61be-6992-477c-ad26-1e911490f37e",
   "metadata": {},
   "outputs": [
    {
     "name": "stdout",
     "output_type": "stream",
     "text": [
      "[1, 3, 12]\n"
     ]
    }
   ],
   "source": [
    "v = [-1, 1, 10] \n",
    "for i in range(len(v)): \n",
    "    v[i] = v[i] + 2 \n",
    "print(v)"
   ]
  },
  {
   "cell_type": "markdown",
   "id": "1d229060-dc37-45be-96b1-3a3ee0402feb",
   "metadata": {},
   "source": [
    "---\n",
    "<img src=\"img/exercise.png\" width=\"45\"> **Exercise 1**\n",
    "\n",
    "Create a program to calculate spring forces $F$ for hard ($b$>0), linear ($b$=0) and soft ($b$<0) springs if\n",
    "$a = 1.5$, $b_1 = -0.2$, $b_2 = 0$, $b_3 = 0.2$ and $x=1.3$\n",
    "\n",
    "$$\n",
    "F = ax + bx^3\n",
    "$$\n",
    "\n",
    "---"
   ]
  },
  {
   "cell_type": "code",
   "execution_count": 18,
   "id": "137e2f69-55e7-4d9a-adf6-600e7d143252",
   "metadata": {},
   "outputs": [
    {
     "name": "stdout",
     "output_type": "stream",
     "text": [
      "[1.5106 1.95   2.3894]\n"
     ]
    }
   ],
   "source": [
    "# spring force for 3 cases\n",
    "import numpy as np \n",
    "\n",
    "a = 1.5\n",
    "x = 1.3\n",
    "#___ your code for b ___\n",
    "\n",
    "F = np.zeros(len(b))\n",
    "\n",
    "#___ your code for the for loop ___\n",
    "\n",
    "print(F)"
   ]
  },
  {
   "cell_type": "markdown",
   "id": "a6586e3b-0b75-4099-978d-3faef8fa0c23",
   "metadata": {},
   "source": [
    "## Tuples\n",
    "\n",
    "Lists are a flexible and user-friendly way to store sequences of numbers, and are used in nearly all Python programs. However, a few other data types are also made to store sequences of data. One of the most important ones is called a **tuple**, and it is essentially *a constant list that cannot be changed*. \n",
    "\n",
    "A tuple is defined in almost the same way as a list, but with normal parentheses instead of the square brackets. Alternatively, we can skip the parentheses and just use a comma-separated sequence of values to define a tuple. The following are two examples that are entirely equivalent and define the same tuple:"
   ]
  },
  {
   "cell_type": "code",
   "execution_count": 3,
   "id": "95416fe2-a9b3-4885-ac4a-5cdae53ca09b",
   "metadata": {},
   "outputs": [
    {
     "name": "stdout",
     "output_type": "stream",
     "text": [
      "(2, 4, 6, 'temp.pdf')\n",
      "(2, 4, 6, 'temp.pdf')\n"
     ]
    }
   ],
   "source": [
    "t = (2, 4, 6, \"temp.pdf\") # define a tuple \n",
    "print(t)\n",
    "t = 2, 4, 6, \"temp.pdf\" # can skip parentheses\n",
    "print(t)"
   ]
  },
  {
   "cell_type": "markdown",
   "id": "d847cd59-b16b-4976-85f0-3726e3a00762",
   "metadata": {},
   "source": [
    "Tuples also provide much of the same functionality as lists, including indexing and and slicing:"
   ]
  },
  {
   "cell_type": "code",
   "execution_count": 13,
   "id": "4036e71a-3049-4597-b4d6-8343e929b779",
   "metadata": {},
   "outputs": [
    {
     "name": "stdout",
     "output_type": "stream",
     "text": [
      "(2, 4, 6, 'temp.pdf', 0.1, 0.2, 0.1, 0.2)\n",
      "4\n",
      "(6, 'temp.pdf', 0.1, 0.2, 0.1, 0.2)\n"
     ]
    },
    {
     "data": {
      "text/plain": [
       "True"
      ]
     },
     "execution_count": 13,
     "metadata": {},
     "output_type": "execute_result"
    }
   ],
   "source": [
    "t = t + (0.1, 0.2) #add two tuples \n",
    "print(t)\n",
    "print(t[1]) # indexing \n",
    "t[2:] # subtuple/slice\n",
    "print(t[2:])\n",
    "6 in t # membership"
   ]
  },
  {
   "cell_type": "markdown",
   "id": "abb7da57-77a8-4811-b0ac-639615be5f6f",
   "metadata": {},
   "source": [
    "However, tuples are immutable, which means that they cannot be changed. Therefore, some operations we are used to from lists will not work."
   ]
  },
  {
   "cell_type": "markdown",
   "id": "c0b68bae-dfdf-4c60-a3d2-be4b2035e87d",
   "metadata": {},
   "source": [
    "## While loop\n",
    "\n",
    "The most general loop in Python is called a while loop. A while loop will repeatedly execute a set of statements as long as a given condition is satisfied. The syntax of the while loop looks like the following:\n",
    "\n",
    "~~~Python\n",
    " while condition:  \n",
    "    <statement 1>  \n",
    "    <statement 2>  \n",
    "    ...  \n",
    " <first statement after loop>\n",
    "~~~\n",
    "\n",
    "The condition here is a Python expression that is evaluated as either true or false, which, in computer science terms, is called a Boolean expression."
   ]
  },
  {
   "cell_type": "code",
   "execution_count": 59,
   "id": "ff5db193-2683-4610-8422-0e390661828d",
   "metadata": {},
   "outputs": [
    {
     "name": "stdout",
     "output_type": "stream",
     "text": [
      "1.5106000000000002\n",
      "1.9500000000000002\n",
      "2.3894\n"
     ]
    }
   ],
   "source": [
    "a = 1.5\n",
    "b = [-0.2, 0, 0.2]\n",
    "x = 1.3\n",
    "i = 0\n",
    "\n",
    "while i < (len(b)):\n",
    "    F = a*x + b[i]*x**3\n",
    "    print(F)\n",
    "    i += 1  #increase the value of i by one"
   ]
  },
  {
   "cell_type": "markdown",
   "id": "a2e11706-208d-45a4-8166-6a38fc320c8a",
   "metadata": {},
   "source": [
    "*Useful tip:* A very common mistake in while loops is to forget to update the variables inside the loop, in this case forgetting the line n=n+1. This error will lead to an infinite loop, which will keep printing the same line forever. If you run the program from the terminal window it can be stopped with *Ctrl+C*, so you can correct the mistake and re-run the program."
   ]
  },
  {
   "cell_type": "markdown",
   "id": "98d7862b-f0bb-48af-a41c-b19352ac1395",
   "metadata": {},
   "source": [
    "## Arrays"
   ]
  },
  {
   "cell_type": "markdown",
   "id": "21ef16f0-3c4d-46ef-a87f-f96faa4bd197",
   "metadata": {},
   "source": [
    "Computing with arrays is often referred to as array computations or **vectorized computations**, and these concepts are useful.\n",
    "\n",
    "Arrays are generalizations of vectors. In Python, we could use a list to represent vectors, by storing component $v_i$ as element v[i] in the list. However, vectors are so useful and common in scientific programming that a special data structure has been created for them: the *NumPy array*. \n",
    "\n",
    "An array is much less flexible than a list, in that it has a fixed length (i.e., no *append*-method), and one array can only hold variables of the same type. However, arrays are also much more efficient to use in computations, and since they are designed for such use, they have a number of useful features that can shorten and clarify our code."
   ]
  },
  {
   "cell_type": "markdown",
   "id": "65d49400-4d5f-463d-ad09-38a99a43ea64",
   "metadata": {
    "tags": []
   },
   "source": [
    "### Vector Inner Product\n",
    "\n",
    "We use the *NumPy* library to perform vector and matrix operations. To import the library, type\n",
    "\n",
    "~~~python\n",
    "import numpy as np\n",
    "~~~"
   ]
  },
  {
   "cell_type": "markdown",
   "id": "e0858375-c6cd-4d07-882e-625d8f08fb51",
   "metadata": {},
   "source": [
    "Let us assume we have two vectors\n",
    "\n",
    "$$ \n",
    "v_1 = \\sqrt{3}x + y\n",
    "$$\n",
    "$$\n",
    "v_2 = x + y\n",
    "$$\n",
    "\n",
    "To calculate the inner product, we can use the following Python script."
   ]
  },
  {
   "cell_type": "code",
   "execution_count": 24,
   "id": "713a02da-04b1-4db0-bc08-af0322d767d1",
   "metadata": {},
   "outputs": [
    {
     "name": "stdout",
     "output_type": "stream",
     "text": [
      "2.732050807568877\n"
     ]
    }
   ],
   "source": [
    "import numpy as np\n",
    "\n",
    "v1 = np.array([np.sqrt(3),1])\n",
    "v2 = np.array([1,1])\n",
    "inner_result = np.vdot(v1,v2)\n",
    "print(inner_result)"
   ]
  },
  {
   "cell_type": "markdown",
   "id": "02ba047d-5e65-4f5e-a146-4e5d8b09d9fc",
   "metadata": {},
   "source": [
    "Note that we use *np.vdot* instead of *np.dot* because we need to use complex vector dot products. Try also *print(v1.shape)*, which will give you (2, 1). It means we constructed a 2 × 1 matrix, which is a column vector with 2 elements."
   ]
  },
  {
   "cell_type": "code",
   "execution_count": 16,
   "id": "414c6608-27bb-4cf4-a7d4-cfa5f2e2c827",
   "metadata": {},
   "outputs": [
    {
     "name": "stdout",
     "output_type": "stream",
     "text": [
      "(2, 1)\n"
     ]
    }
   ],
   "source": [
    "print(v1.shape)"
   ]
  },
  {
   "cell_type": "markdown",
   "id": "fbf6484f-1af3-45d1-af2c-ad6528baf4a7",
   "metadata": {},
   "source": [
    "### Inner Product with Complex Coefficient\n",
    "\n",
    "Now, let us try \n",
    "$$ \n",
    "v_1 = ix + y\n",
    "$$\n",
    "$$\n",
    "v_2 = -ix + y\n",
    "$$ \n",
    "\n",
    "Note that in the *NumPy* library, you need to put *i* as *j*. For example, *5 + i* should be entered as *5 + 1j* (putting the “1” is necessary)."
   ]
  },
  {
   "cell_type": "code",
   "execution_count": 26,
   "id": "c0cbcc0a-d8f9-4a7b-8704-257ec56fc003",
   "metadata": {},
   "outputs": [
    {
     "name": "stdout",
     "output_type": "stream",
     "text": [
      "0j\n"
     ]
    }
   ],
   "source": [
    "import numpy as np\n",
    "\n",
    "v1 = np.array([1j,1])\n",
    "v2 = np.array([-1j,1])\n",
    "inner_result = np.vdot(v1,v2)\n",
    "print(inner_result)"
   ]
  },
  {
   "cell_type": "markdown",
   "id": "da997f54-a36a-47ba-a57c-fc9672cfdc83",
   "metadata": {},
   "source": [
    "---\n",
    "<img src=\"img/exercise.png\" width=\"45\"> **Exercise 2**\n",
    "\n",
    "Calculate the inner product of the following two vectors:\n",
    "$$ \n",
    "v_1 = (1+2i)x + y\n",
    "$$\n",
    "$$\n",
    "v_2 = (1-i)x + y\n",
    "$$\n",
    "\n",
    "*Answer:* -3i\n",
    "\n",
    "---"
   ]
  },
  {
   "cell_type": "code",
   "execution_count": null,
   "id": "fbbfb05f-67c7-4642-b41a-c00a82bffd04",
   "metadata": {},
   "outputs": [],
   "source": [
    "import numpy as np\n",
    "\n",
    "#___ your code for v1 & v2 ___\n",
    "\n",
    "inner_result = np.vdot(v1,v2)\n",
    "print(inner_result)"
   ]
  },
  {
   "cell_type": "markdown",
   "id": "52920c70-1a42-4141-963d-0a95e197a2c7",
   "metadata": {},
   "source": [
    "### Functions $linspace$ & $zeros$\n",
    "\n",
    "NumPy has a number of built-in functions that are often more convenient to use. Two of the most widely used ones are called *linspace* and *zeros*."
   ]
  },
  {
   "cell_type": "code",
   "execution_count": 37,
   "id": "d7945eb6-479d-46b0-b3b3-7ebec8841ed3",
   "metadata": {},
   "outputs": [],
   "source": [
    "import numpy as np \n",
    "\n",
    "def f(x):\n",
    "    return x**2\n",
    "\n",
    "n=5 # number of points \n",
    "x = np.linspace(0, 1, n) # n points in [0, 1] \n",
    "y = np.zeros(n) # n zeros (float data type) \n",
    "\n",
    "for i in range(n): \n",
    "    y[i] = 2*x[i]"
   ]
  },
  {
   "cell_type": "markdown",
   "id": "6bde6efa-01a1-4c0d-9f2b-1ca4c769fd22",
   "metadata": {},
   "source": [
    "As illustrated here, we will usually call linspace with three arguments, with the general form *linspace(start,stop,n)*, which will create an array of length $n$, containing uniformly distributed values on the interval from $start$ to $stop$. If we leave out the third argument, as in *linspace(start,stop)*, a default value of $n=50$ is used. The $start$ and $stop$ arguments must always be provided. An array of equally spaced $x$-values is needed nearly every time we plot something, so we will use linspace frequently. It is worth spending time to become familiar with how it is used and what it returns.\n",
    "\n",
    "The second NumPy function used above, *zeros(n)*, does exactly what we would expect: it creates an array of length $n$ containing only zeros. A common way to create a list is to start with an empty list and fill it with values using a *for* loop and the *append*-method. We will often use a similar approach to create an array, but since an array has fixed length and no *append*-method, we must first create an array of the right size and then loop over it with an index to fill in the values. This operation is very common, so remembering the existence of NumPy’s *zeros* function is important.\n",
    "\n",
    "Lists in Python are extremely flexible, and can contain any Python object. Arrays are much more static, and we will typically use them for numbers (i.e., type float or int). We have also seen that arrays are of fixed length and do not have the convenient append-method. So, *why do we use arrays at all?* One reason is that arrays are more efficient to store in memory and use in computations. The other reason is that arrays can shortn our code and make it more readable, since we can perform operations on an entire array at once instead of using loops. \n",
    "\n",
    "For example, let's calculate the spring forces $F$ for three springs (as in Exercise 1)."
   ]
  },
  {
   "cell_type": "code",
   "execution_count": 46,
   "id": "2bce9be6-7fef-48ef-bf62-e12b6ada7874",
   "metadata": {},
   "outputs": [
    {
     "name": "stdout",
     "output_type": "stream",
     "text": [
      "[1.5106 1.95   2.3894]\n"
     ]
    }
   ],
   "source": [
    "import numpy as np \n",
    "\n",
    "a = 1.5\n",
    "x = 1.3\n",
    "b = np.array([-0.2, 0, 0.2])\n",
    "F = np.zeros(3)\n",
    "\n",
    "F = a*x + b*np.power(x, 3)\n",
    "print(F)\n"
   ]
  },
  {
   "cell_type": "markdown",
   "id": "d3d6ca79-3fd3-4578-bcec-6b5aef47d0e1",
   "metadata": {},
   "source": [
    "## Plotting Curves with Matplotlib\n",
    "\n",
    "The main motivation for introducing NumPy arrays was to plot mathematical functions. Let us start with a simple example. Suppose we want to plot the force curve of a hard spring for $x$ ranging from -2.5 to +2.5. The code can look like"
   ]
  },
  {
   "cell_type": "code",
   "execution_count": 56,
   "id": "307d251e-f9bc-4e4e-9ad2-26c2510559bd",
   "metadata": {},
   "outputs": [
    {
     "data": {
      "image/png": "[encoded data removed]",
      "text/plain": [
       "<Figure size 640x480 with 1 Axes>"
      ]
     },
     "metadata": {},
     "output_type": "display_data"
    }
   ],
   "source": [
    "import matplotlib.pyplot as plt #imports the plotting tools\n",
    "import numpy as np\n",
    "\n",
    "a = 1.5\n",
    "b = 0.2 # the hard spring\n",
    "x = np.linspace(-2.5, 2.5)\n",
    "\n",
    "F = a*x + b*np.power(x, 3)\n",
    "\n",
    "plt.plot(x, F) \n",
    "plt.show()"
   ]
  },
  {
   "cell_type": "markdown",
   "id": "58d0d833-36f5-4c1a-aa5f-e214a2849509",
   "metadata": {},
   "source": [
    "The first line imports the plotting tools from the *matplotlib* package, which is an extensive library of functions for scientific visualization. We will only use a small subset of the capabilities of matplotlib, mostly from the module *pyplot*, to plot curves and create animations of curves that change over time. The last two lines carry out the actual plotting: the call *plt.plot(x,y)* first creates the plot of the curve, and then *plt.show()* displays the plot on the screen. The reason for keeping these separate is to make it easy to plot multiple curves in a single plot, by calling plot multiple times followed by a single call to show.\n",
    "\n",
    "The plot produced by the code above is very simple and contains no title, axis labels, or other information. We can easily add such information in the plot by using tools from *matplotlib*:"
   ]
  },
  {
   "cell_type": "code",
   "execution_count": 73,
   "id": "e40d32eb-fd4f-4ba8-a215-5a53dec384a1",
   "metadata": {},
   "outputs": [
    {
     "data": {
      "image/png": "[encoded data removed]",
      "text/plain": [
       "<Figure size 640x480 with 1 Axes>"
      ]
     },
     "metadata": {},
     "output_type": "display_data"
    }
   ],
   "source": [
    "import matplotlib.pyplot as plt #imports the plotting tools\n",
    "import numpy as np\n",
    "\n",
    "def F(x):\n",
    "    return a*x + b*np.power(x, 3)\n",
    "    \n",
    "a = 1.5\n",
    "b = 0.2 # the hard spring\n",
    "x = np.linspace(-2.5, 2.5)\n",
    "\n",
    "y = F(x)\n",
    "\n",
    "plt.plot(x, y, label='Hard spring (b>0)') \n",
    "\n",
    "plt.xlabel('x') # label on the x axis \n",
    "plt.ylabel('F(x)') # label on the y axis \n",
    "plt.legend() # mark the curve \n",
    "plt.axis([-2.5, 2.5, -7.2, 7.2]) # [xmin, xmax, ymin, ymax] \n",
    "plt.title('My First Matplotlib Demo')\n",
    "\n",
    "plt.savefig('hard_spring.png') # make PNG image\n",
    "plt.show()"
   ]
  },
  {
   "cell_type": "markdown",
   "id": "958b83df-70d2-4922-a5be-1d8d0f83d720",
   "metadata": {},
   "source": [
    "---\n",
    "<img src=\"img/exercise.png\" width=\"45\"> **Exercise 3**\n",
    "\n",
    "Improve the above program to show plots of all types of forces.\n",
    "\n",
    "---"
   ]
  },
  {
   "cell_type": "code",
   "execution_count": null,
   "id": "24dfbac8-19d5-4f26-962f-57043e266ff7",
   "metadata": {},
   "outputs": [],
   "source": [
    "import matplotlib.pyplot as plt #imports the plotting tools\n",
    "import numpy as np\n",
    "\n",
    "def F(x,b):\n",
    "    return a*x + b*np.power(x, 3)\n",
    "    \n",
    "a = 1.5\n",
    "b = 0.2 # the hard spring\n",
    "b1 = 0 #the linear spring\n",
    "b2 = -0.2 #the soft spring\n",
    "\n",
    "x = np.linspace(-2.5, 2.5)\n",
    "\n",
    "#___ your code for y, y1 & y2 ___\n",
    "\n",
    "plt.plot(x, y, label='Hard spring (b>0)') \n",
    "plt.plot(x, y1, label='Linear spring (b=0)')\n",
    "plt.plot(x, y2, label='Soft spring (b<0)')\n",
    "\n",
    "plt.xlabel('x') # label on the x axis \n",
    "plt.ylabel('F(x)') # label on the y axis \n",
    "plt.legend() # mark the curve \n",
    "plt.axis([-2.5, 2.5, -7.2, 7.2]) # [xmin, xmax, ymin, ymax] \n",
    "plt.title('My First Matplotlib Demo')\n",
    "\n",
    "plt.savefig('all_spring.png') # make PNG image\n",
    "plt.show()"
   ]
  },
  {
   "cell_type": "markdown",
   "id": "fbbd2872-aa27-4c0f-b332-0b0836848ffd",
   "metadata": {},
   "source": [
    "## References\n",
    "\n",
    "J. Sundnes. *Introduction to Scientific Programming with Python*, Springer International Publishing, 2020."
   ]
  }
 ],
 "metadata": {
  "kernelspec": {
   "display_name": "Python 3 (ipykernel)",
   "language": "python",
   "name": "python3"
  },
  "language_info": {
   "codemirror_mode": {
    "name": "ipython",
    "version": 3
   },
   "file_extension": ".py",
   "mimetype": "text/x-python",
   "name": "python",
   "nbconvert_exporter": "python",
   "pygments_lexer": "ipython3",
   "version": "3.12.4"
  }
 },
 "nbformat": 4,
 "nbformat_minor": 5
}
