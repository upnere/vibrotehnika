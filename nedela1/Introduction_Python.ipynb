{
 "cells": [
  {
   "cell_type": "markdown",
   "id": "5fa6c5e5-763c-4776-ba81-0de8f1ee7fc6",
   "metadata": {},
   "source": [
    "# Introduction to Python\n",
    "\n",
    "## Learning Objectives\n",
    "\n",
    "After studying this notebook, you will be able to:\n",
    "* Distinguish between identifiers and variables\n",
    "* Understand various built-in datatypes and concepts of sequence\n",
    "* Write simple statements in a Python program\n",
    "* Provide inputs to a Python program\n",
    "* Get output from a Python program after execution\n",
    "* Comment codes in a Python program\n",
    "\n",
    "---"
   ]
  },
  {
   "cell_type": "markdown",
   "id": "566038ea-0322-4cf7-bcc3-312112d6d7e2",
   "metadata": {},
   "source": [
    "**You can edit the exercises directly in the cells.**<br>\n",
    "- **Jupyter notebook quick start:**\n",
    "- \\<Shift>+\\<Return> --> runs a cell\n",
    "- ! --> shell escape [! Linux command line]\n",
    "- use a (above) and b (below) left of the [ ] to open new cells\n",
    "&nbsp;<br>;<br>"
   ]
  },
  {
   "cell_type": "markdown",
   "id": "e886af49-bdb4-42e4-845b-3c91294b8742",
   "metadata": {},
   "source": [
    "## Variables and Identifiers\n",
    "\n",
    "A *variable* is a resource in a computer’s memory to store values. The user can store different datatypes such as integers, floating point numbers and strings in that memory location.\n",
    "\n",
    "An *identifier* is a name given to a variable or an entity, such as functions, objects, etc. Variables and identifiers are not the same. The variable's name is an identifier, but a variable has other properties such as value, type, scope, etc.\n",
    "\n",
    "<img src=\"img/example2.png\" width=\"30\"> **Example 1**\n",
    "\n",
    "&emsp; &emsp; Think of a person as a variable. A person has a name, which is an identifier, but that person also has other properties, such as gender, height, weight, and other properties that are variables.\n",
    "\n",
    "### Rules for Identifier:\n",
    "1. The identifiers are case sensitive. So identifier X and identifier x are not the same.\n",
    "2. Identifiers can only contain letters, numbers and underscores, nothing else.\n",
    "3. Identifiers cannot start with a number. \n",
    "4. Identifier names cannot be the same as Python keywords.\n",
    "\n",
    "### Variable Types\n",
    "The datatype of a value is an attribute that tells what kind of data the variable value can have.\n",
    "\n",
    "#### Numeric Datatypes\n",
    "Numeric data can be Integer, Float, Complex number or Boolean.\n",
    "\n",
    "* *Integer*. Data is saved as a whole number. For example, “How many springs are there in the system?” To answer such a question, an Integer-type variable is used. Integers are those data types that do not take any decimal places."
   ]
  },
  {
   "cell_type": "code",
   "execution_count": 6,
   "id": "efb42b41-64fb-4003-baf1-57ab5ade291e",
   "metadata": {},
   "outputs": [
    {
     "name": "stdout",
     "output_type": "stream",
     "text": [
      "<class 'int'>\n",
      "The system contains 4 spring\n"
     ]
    }
   ],
   "source": [
    "Nr_of_springs = 4\n",
    "print(type(Nr_of_springs))\n",
    "print('The system contains',Nr_of_springs, 'spring')"
   ]
  },
  {
   "cell_type": "markdown",
   "id": "22ab1424-24b8-4f1f-8c5f-72f2165a7e8e",
   "metadata": {},
   "source": [
    "* *Float*: Variables have fractional values. If the question is \"What is the length of the spring?\", the answer could be, for example, 0.55 m."
   ]
  },
  {
   "cell_type": "code",
   "execution_count": 2,
   "id": "04bb0398-4c2f-4919-8fb5-4323b9e6e1fa",
   "metadata": {},
   "outputs": [
    {
     "name": "stdout",
     "output_type": "stream",
     "text": [
      "<class 'float'>\n"
     ]
    }
   ],
   "source": [
    "length_of_springs = 0.55\n",
    "print(type(length_of_springs))"
   ]
  },
  {
   "cell_type": "markdown",
   "id": "dc09d195-a712-48fa-b872-d6922f07191d",
   "metadata": {},
   "source": [
    "* *Complex*: The Integer and the floating-point numbers are one-dimensional. Sometimes, we need two-dimensional numbers. We can use another numeric datatype, a complex number, to represent a two-dimensional number. Complex numbers are defined as ordered pairs *x+yj*, where *x* and *y* are numeric data. Here, *x* is the real part, and *y* is the imaginary part."
   ]
  },
  {
   "cell_type": "code",
   "execution_count": 1,
   "id": "b8068b43-e5ea-4ee0-b846-2d57bc3a5c65",
   "metadata": {},
   "outputs": [
    {
     "name": "stdout",
     "output_type": "stream",
     "text": [
      "<class 'complex'>\n",
      "1.5 0.5\n"
     ]
    }
   ],
   "source": [
    "complex_number=1.5+0.5j\n",
    "print(type(complex_number))\n",
    "print(complex_number.real, complex_number.imag)"
   ]
  },
  {
   "cell_type": "markdown",
   "id": "bce6bb14-294a-4154-a283-428e7d0974c0",
   "metadata": {},
   "source": [
    "* *Boolean*: A binary variable that can have one of the two possible values – 0 (False) or 1 (True). AND, OR, XOR, etc., are the operations we perform with the Boolean datatype."
   ]
  },
  {
   "cell_type": "code",
   "execution_count": 3,
   "id": "a9f344a6-0cc3-4f16-871f-076e2df77da1",
   "metadata": {},
   "outputs": [
    {
     "name": "stdout",
     "output_type": "stream",
     "text": [
      "<class 'bool'>\n"
     ]
    }
   ],
   "source": [
    "boolean_type = False\n",
    "print(type(boolean_type))"
   ]
  },
  {
   "cell_type": "markdown",
   "id": "c1e9774b-ef06-465e-a858-0fe89d9da921",
   "metadata": {},
   "source": [
    "## Sequence Datatypes\n",
    "\n",
    "* *String*: The String type of variable is used to answer the question “What is your name?”. It is a sequence of characters, numbers and special characters. The String datatype is immutable. The operations we perform with String datatype are concatenation, finding substring, etc."
   ]
  },
  {
   "cell_type": "code",
   "execution_count": 8,
   "id": "41e72d6e-b160-4365-bdbd-241c4b0aa62e",
   "metadata": {},
   "outputs": [
    {
     "name": "stdout",
     "output_type": "stream",
     "text": [
      "<class 'str'>\n",
      "uderdamped\n",
      "uder\n",
      "d\n"
     ]
    }
   ],
   "source": [
    "type_of_vibration = 'damped'\n",
    "print(type(type_of_vibration))\n",
    "\n",
    "new_type = 'uder'+type_of_vibration\n",
    "print(new_type)\n",
    "\n",
    "pre = new_type[0:4]\n",
    "print(pre)\n",
    "\n",
    "print(new_type[-1]) # The last character"
   ]
  },
  {
   "cell_type": "markdown",
   "id": "8c342208-5931-4a9a-b947-13d5f5a17a27",
   "metadata": {},
   "source": [
    "* *List*: This data type keeps multiple data under one variable name. Unlike an array in, say, the C programming language, which is a uniform data type, a list in Python does not need to be of the same data type. In the list, the data is enclosed in square brackets [ ]."
   ]
  },
  {
   "cell_type": "code",
   "execution_count": 10,
   "id": "dc693b4f-a52f-4eec-9ecd-54c0ff4f50a8",
   "metadata": {},
   "outputs": [
    {
     "name": "stdout",
     "output_type": "stream",
     "text": [
      "mass\n",
      "100\n",
      "stiffness\n",
      "1200\n",
      "4\n"
     ]
    }
   ],
   "source": [
    "system = ['mass', 'stiffness', 100, 1200]\n",
    "print(system[0])\n",
    "\n",
    "print(system[-2])\n",
    "\n",
    "print(system[1])\n",
    "\n",
    "print(system[-1])\n",
    "\n",
    "print(len(system))"
   ]
  },
  {
   "cell_type": "markdown",
   "id": "f7aec306-64dc-447c-86f9-2c625f26da56",
   "metadata": {},
   "source": [
    "* *Tuple*: This datatype is similar to the List datatype, with the difference that once a tuple is defined, it contains a collection of unchangeable and indexed data. In a tuple, the data is written within a pair of round brackets ( )."
   ]
  },
  {
   "cell_type": "code",
   "execution_count": 32,
   "id": "d1e80fc4-455e-4a9d-8e94-fb5cea304ddc",
   "metadata": {
    "tags": []
   },
   "outputs": [
    {
     "name": "stdout",
     "output_type": "stream",
     "text": [
      "<class 'tuple'>\n"
     ]
    }
   ],
   "source": [
    "tuple1 = (\"system1\", 34, True, \"undamped\")\n",
    "print(type(tuple1))"
   ]
  },
  {
   "cell_type": "markdown",
   "id": "1f96e889-6f2a-42f9-9e5a-3ba95e4a140c",
   "metadata": {},
   "source": [
    "## Dictionaries\n",
    "A dictionary is a particular datatype that keeps the data in a key–value pair. It is a collection that is unordered, changeable, and indexed. This datatype works similarly to a Dictionary in the real world. Keys of a Dictionary must be unique and of an immutable datatype such as Strings, Integers and Tuples, but the key–value can be repeated and of any type."
   ]
  },
  {
   "cell_type": "code",
   "execution_count": 1,
   "id": "16b60e93-e591-4cfa-8920-8743e5ae26af",
   "metadata": {},
   "outputs": [
    {
     "name": "stdout",
     "output_type": "stream",
     "text": [
      "0.1\n",
      "underdamped\n"
     ]
    }
   ],
   "source": [
    "systems = {\n",
    "  \"mass\": [10, 20, 30],\n",
    "  \"stiffness_coef\": [1200, 3000, 0],\n",
    "  \"damping_ratio\": [0, 0.1, 1],\n",
    "  \"external_force\": [2, 0, 3],\n",
    "  \"vibro_type\": [\"undamped\", \"underdamped\", \"critically damped\"]\n",
    "} \n",
    "\n",
    "print(systems[\"damping_ratio\"][1])\n",
    "print(systems[\"vibro_type\"][1])"
   ]
  },
  {
   "cell_type": "markdown",
   "id": "e2ad1770-a7c8-4647-aca2-326f9f000eee",
   "metadata": {},
   "source": [
    "## Input Statements\n",
    "To get an input from the keyboard, the *input()* function is called. The general format of the input function is\n",
    "~~~python\n",
    "Variable_name = input([\"Prompt Message\"])\n",
    "~~~\n",
    "\n",
    "The prompt message (optional) is used to show a message to the user before he types anything. It is used for a better understanding of the program."
   ]
  },
  {
   "cell_type": "code",
   "execution_count": 2,
   "id": "38b5fed3-ff88-41fa-b656-a90191301877",
   "metadata": {},
   "outputs": [
    {
     "name": "stdin",
     "output_type": "stream",
     "text": [
      "Enter Number 1:  2\n",
      "Enter Number 2:  7\n"
     ]
    },
    {
     "name": "stdout",
     "output_type": "stream",
     "text": [
      "The Sum is  9\n"
     ]
    }
   ],
   "source": [
    "num1 = int(input(\"Enter Number 1: \"))\n",
    "num2 = int(input(\"Enter Number 2: \"))\n",
    "sum = num1 + num2\n",
    "print(\"The Sum is \",sum)"
   ]
  },
  {
   "cell_type": "markdown",
   "id": "ba4c305c-a41e-4868-98a7-dd1d2d0b07df",
   "metadata": {},
   "source": [
    "When the user enters some characters from the keyboard using an input statement, it produces a String. If the user wishes to treat that input as a number, then type-casting is necessary for the conversion. Depending upon the user input, the variable's datatype can be decided. Python provides the *eval()* function that attempts to evaluate a String in the same way that the interactive shell would determine it."
   ]
  },
  {
   "cell_type": "code",
   "execution_count": 27,
   "id": "7f16b511-85bc-48cf-881c-2b717e0efb0f",
   "metadata": {},
   "outputs": [
    {
     "name": "stdin",
     "output_type": "stream",
     "text": [
      "Enter two numbers separated by a comma :  4,6\n"
     ]
    },
    {
     "name": "stdout",
     "output_type": "stream",
     "text": [
      "The Sum is  10\n"
     ]
    }
   ],
   "source": [
    "x, y = eval(input(\"Enter two numbers separated by a comma : \"))\n",
    "print(\"The Sum is \",x+y)"
   ]
  },
  {
   "cell_type": "markdown",
   "id": "c7238f1b-dbfa-4510-a370-a2985f8372cb",
   "metadata": {},
   "source": [
    "## Output Statements\n",
    "Output statements are the statements that are used to show the result on the screen. For that purpose, we use the *print()* statement.\n",
    "A simple print statement looks like:\n",
    "\n",
    "~~~python\n",
    "print(\"objects\",[sep = '', end = '\\n', file = sys .stdout, flush = false])\n",
    "~~~\n",
    "\n",
    "All non-keyword arguments are converted to strings like *str()* does, written to the stream, separated by comma \"sep\" and followed by \"end\". Both sep and end must be strings. The use of sep and end is optional. If no objects are given, *print()* command will print a blank line."
   ]
  },
  {
   "cell_type": "code",
   "execution_count": 33,
   "id": "33e75944-952e-4732-b09a-503f38cff1bf",
   "metadata": {},
   "outputs": [
    {
     "name": "stdout",
     "output_type": "stream",
     "text": [
      "I am Learning Python\n",
      "I am learning Python \n",
      " and I am enjoying it\n",
      "I am learning Python \t and I am enjoying it\n",
      "I'm learning Python and I'm enjoying it\n",
      "I am learning \"Python\" and I am enjoying it\n",
      "I am learning Python \\ I am enjoying it\n",
      "I am learning Python...and...I am enjoying it.*----*"
     ]
    }
   ],
   "source": [
    "print(\"I am Learning Python\") # Comments\n",
    "\n",
    "print(\"I am learning Python \\n and I am enjoying it\") # Use \\n to shift the cursor control to the new line.\n",
    "print(\"I am learning Python \\t and I am enjoying it\") # Use \\t to shift the cursor to a couple of spaces to the right in the same line.\n",
    "print(\"I\\'m learning Python and I\\'m enjoying it\")    # Use \\' to display the single-quotation mark.\n",
    "print(\"I am learning \\\"Python\\\" and I am enjoying it\")# Use \\\" to display the double-quotation mark.\n",
    "print(\"I am learning Python \\\\ I am enjoying it\")     # Use \\\\ to display the backslash character.\n",
    "\n",
    "print(\"I am learning Python\", \"and\", \"I am enjoying it.\", sep = \"...\",end = \"*----*\")"
   ]
  },
  {
   "cell_type": "markdown",
   "id": "43198fc3-65ff-4f72-a69e-ab18f7b4b48d",
   "metadata": {},
   "source": [
    "### String Formatting with *format()*\n",
    "The *format()* reads the type of arguments passed to it and presents it according to the format codes defined in the String. The basic form is:\n",
    "\n",
    "~~~python\n",
    "print(string.format(value))\n",
    "~~~\n",
    "\n",
    "The value can be any datatype including a variable."
   ]
  },
  {
   "cell_type": "code",
   "execution_count": 34,
   "id": "adcd9e69-7603-4147-8731-e7e4e975329a",
   "metadata": {},
   "outputs": [
    {
     "name": "stdout",
     "output_type": "stream",
     "text": [
      "I am learning Python and I am Enjoying it.\n",
      "I am learning Python 3 and I am enjoying it\n"
     ]
    },
    {
     "data": {
      "text/plain": [
       "4.0"
      ]
     },
     "execution_count": 34,
     "metadata": {},
     "output_type": "execute_result"
    }
   ],
   "source": [
    "print(\"I am learning {0} and I am {1} it.\".format(\"Python\", \"Enjoying\"))\n",
    "\n",
    "str1 = \"Python 3\"\n",
    "str2 = \"enjoying\"\n",
    "print(\"I am learning {0} and I am {1} it\".format(str1,str2))\n",
    "\n",
    "32/8"
   ]
  },
  {
   "cell_type": "markdown",
   "id": "8f5ab6d5-0630-4cc3-8e67-538f8ceaaabb",
   "metadata": {},
   "source": [
    "<img src=\"img/question.png\" width=\"40\"> **Self-Test Questions**\n",
    "<p>1. For the statement x = 5 + 9 , what is the type?<br>\n",
    "a) Integer<br>\n",
    "b) String<br>\n",
    "c) Float<br>\n",
    "d) Boolean</p>\n",
    "\n",
    "<p>2. For the statement x = input(\"What is the mass of the system?\"), what is the type?<br>\n",
    "a) Integer<br>\n",
    "b) String<br>\n",
    "c) Float<br>\n",
    "d) Boolean</p>\n",
    "\n",
    "<p>3. Find the output of the statement x = (int(4.2)/2)<br>\n",
    "a) 0.2<br>\n",
    "b) 2<br>\n",
    "c) 2.0<br>\n",
    "d) None of the above</p>\n",
    "\n",
    "<p>4. Find the output of the statement<br>\n",
    "x = 10<br>\n",
    "y = 20<br>\n",
    "print(\"x is \",y,\" y is \",x)<br>\n",
    "a) x is 10 y is 20<br>\n",
    "b) x is 20 y is 10<br>\n",
    "c) x is 20 y is 20<br>\n",
    "d) x is 10 y is 10</p>\n",
    "\n",
    "<p>5. If key and value pair is needed, which datatype is to be used?<br>\n",
    "a) int<br>\n",
    "b) list<br>\n",
    "c) tuple<br>\n",
    "d) dictionary</p>"
   ]
  },
  {
   "cell_type": "markdown",
   "id": "d5307e59-5d36-4217-b86e-b26501ad5b84",
   "metadata": {},
   "source": [
    "## References\n",
    "\n",
    "Rakesh Nayak and Nishu Gupta. *Python for Engineers and Scientists. Concepts and Applications*, CRC Press, 2023."
   ]
  }
 ],
 "metadata": {
  "kernelspec": {
   "display_name": "Python 3 (ipykernel)",
   "language": "python",
   "name": "python3"
  },
  "language_info": {
   "codemirror_mode": {
    "name": "ipython",
    "version": 3
   },
   "file_extension": ".py",
   "mimetype": "text/x-python",
   "name": "python",
   "nbconvert_exporter": "python",
   "pygments_lexer": "ipython3",
   "version": "3.12.4"
  }
 },
 "nbformat": 4,
 "nbformat_minor": 5
}
